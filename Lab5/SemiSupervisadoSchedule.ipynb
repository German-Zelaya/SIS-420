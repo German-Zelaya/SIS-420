{
 "cells": [
  {
   "cell_type": "code",
   "execution_count": 3,
   "id": "ced0e8a6",
   "metadata": {},
   "outputs": [],
   "source": [
    "from sklearn.datasets import make_blobs\n",
    "import numpy as np\n",
    "import matplotlib.pyplot as plt\n",
    "import pandas as pd\n",
    "from sklearn.cluster import KMeans\n",
    "import seaborn as sns\n",
    "from sklearn.metrics import silhouette_score\n",
    "from sklearn.model_selection import train_test_split\n",
    "from sklearn.linear_model import LogisticRegression\n",
    "np.set_printoptions(threshold=np.inf, linewidth=np.inf)"
   ]
  },
  {
   "cell_type": "code",
   "execution_count": 4,
   "id": "952e370c",
   "metadata": {},
   "outputs": [
    {
     "name": "stderr",
     "output_type": "stream",
     "text": [
      "c:\\Users\\ltron\\AppData\\Local\\Programs\\Python\\Python312\\Lib\\site-packages\\tqdm\\auto.py:21: TqdmWarning: IProgress not found. Please update jupyter and ipywidgets. See https://ipywidgets.readthedocs.io/en/stable/user_install.html\n",
      "  from .autonotebook import tqdm as notebook_tqdm\n"
     ]
    },
    {
     "name": "stdout",
     "output_type": "stream",
     "text": [
      "Warning: Looks like you're using an outdated `kagglehub` version (installed: 0.3.10), please consider upgrading to the latest version (0.3.12).\n",
      "Path to dataset files: C:\\Users\\ltron\\.cache\\kagglehub\\datasets\\muthuj7\\weather-dataset\\versions\\1\n"
     ]
    }
   ],
   "source": [
    "import kagglehub\n",
    "\n",
    "# Download latest version\n",
    "path = kagglehub.dataset_download(\"muthuj7/weather-dataset\")\n",
    "\n",
    "print(\"Path to dataset files:\", path)"
   ]
  },
  {
   "cell_type": "code",
   "execution_count": 5,
   "id": "f7f007ab",
   "metadata": {},
   "outputs": [
    {
     "data": {
      "text/html": [
       "<div>\n",
       "<style scoped>\n",
       "    .dataframe tbody tr th:only-of-type {\n",
       "        vertical-align: middle;\n",
       "    }\n",
       "\n",
       "    .dataframe tbody tr th {\n",
       "        vertical-align: top;\n",
       "    }\n",
       "\n",
       "    .dataframe thead th {\n",
       "        text-align: right;\n",
       "    }\n",
       "</style>\n",
       "<table border=\"1\" class=\"dataframe\">\n",
       "  <thead>\n",
       "    <tr style=\"text-align: right;\">\n",
       "      <th></th>\n",
       "      <th>Formatted Date</th>\n",
       "      <th>Summary</th>\n",
       "      <th>Precip Type</th>\n",
       "      <th>Temperature (C)</th>\n",
       "      <th>Apparent Temperature (C)</th>\n",
       "      <th>Humidity</th>\n",
       "      <th>Wind Speed (km/h)</th>\n",
       "      <th>Wind Bearing (degrees)</th>\n",
       "      <th>Visibility (km)</th>\n",
       "      <th>Loud Cover</th>\n",
       "      <th>Pressure (millibars)</th>\n",
       "      <th>Daily Summary</th>\n",
       "    </tr>\n",
       "  </thead>\n",
       "  <tbody>\n",
       "    <tr>\n",
       "      <th>0</th>\n",
       "      <td>2006-04-01 00:00:00.000 +0200</td>\n",
       "      <td>Partly Cloudy</td>\n",
       "      <td>rain</td>\n",
       "      <td>9.472222</td>\n",
       "      <td>7.388889</td>\n",
       "      <td>0.89</td>\n",
       "      <td>14.1197</td>\n",
       "      <td>251.0</td>\n",
       "      <td>15.8263</td>\n",
       "      <td>0.0</td>\n",
       "      <td>1015.13</td>\n",
       "      <td>Partly cloudy throughout the day.</td>\n",
       "    </tr>\n",
       "    <tr>\n",
       "      <th>1</th>\n",
       "      <td>2006-04-01 01:00:00.000 +0200</td>\n",
       "      <td>Partly Cloudy</td>\n",
       "      <td>rain</td>\n",
       "      <td>9.355556</td>\n",
       "      <td>7.227778</td>\n",
       "      <td>0.86</td>\n",
       "      <td>14.2646</td>\n",
       "      <td>259.0</td>\n",
       "      <td>15.8263</td>\n",
       "      <td>0.0</td>\n",
       "      <td>1015.63</td>\n",
       "      <td>Partly cloudy throughout the day.</td>\n",
       "    </tr>\n",
       "    <tr>\n",
       "      <th>2</th>\n",
       "      <td>2006-04-01 02:00:00.000 +0200</td>\n",
       "      <td>Mostly Cloudy</td>\n",
       "      <td>rain</td>\n",
       "      <td>9.377778</td>\n",
       "      <td>9.377778</td>\n",
       "      <td>0.89</td>\n",
       "      <td>3.9284</td>\n",
       "      <td>204.0</td>\n",
       "      <td>14.9569</td>\n",
       "      <td>0.0</td>\n",
       "      <td>1015.94</td>\n",
       "      <td>Partly cloudy throughout the day.</td>\n",
       "    </tr>\n",
       "    <tr>\n",
       "      <th>3</th>\n",
       "      <td>2006-04-01 03:00:00.000 +0200</td>\n",
       "      <td>Partly Cloudy</td>\n",
       "      <td>rain</td>\n",
       "      <td>8.288889</td>\n",
       "      <td>5.944444</td>\n",
       "      <td>0.83</td>\n",
       "      <td>14.1036</td>\n",
       "      <td>269.0</td>\n",
       "      <td>15.8263</td>\n",
       "      <td>0.0</td>\n",
       "      <td>1016.41</td>\n",
       "      <td>Partly cloudy throughout the day.</td>\n",
       "    </tr>\n",
       "    <tr>\n",
       "      <th>4</th>\n",
       "      <td>2006-04-01 04:00:00.000 +0200</td>\n",
       "      <td>Mostly Cloudy</td>\n",
       "      <td>rain</td>\n",
       "      <td>8.755556</td>\n",
       "      <td>6.977778</td>\n",
       "      <td>0.83</td>\n",
       "      <td>11.0446</td>\n",
       "      <td>259.0</td>\n",
       "      <td>15.8263</td>\n",
       "      <td>0.0</td>\n",
       "      <td>1016.51</td>\n",
       "      <td>Partly cloudy throughout the day.</td>\n",
       "    </tr>\n",
       "    <tr>\n",
       "      <th>...</th>\n",
       "      <td>...</td>\n",
       "      <td>...</td>\n",
       "      <td>...</td>\n",
       "      <td>...</td>\n",
       "      <td>...</td>\n",
       "      <td>...</td>\n",
       "      <td>...</td>\n",
       "      <td>...</td>\n",
       "      <td>...</td>\n",
       "      <td>...</td>\n",
       "      <td>...</td>\n",
       "      <td>...</td>\n",
       "    </tr>\n",
       "    <tr>\n",
       "      <th>96448</th>\n",
       "      <td>2016-09-09 19:00:00.000 +0200</td>\n",
       "      <td>Partly Cloudy</td>\n",
       "      <td>rain</td>\n",
       "      <td>26.016667</td>\n",
       "      <td>26.016667</td>\n",
       "      <td>0.43</td>\n",
       "      <td>10.9963</td>\n",
       "      <td>31.0</td>\n",
       "      <td>16.1000</td>\n",
       "      <td>0.0</td>\n",
       "      <td>1014.36</td>\n",
       "      <td>Partly cloudy starting in the morning.</td>\n",
       "    </tr>\n",
       "    <tr>\n",
       "      <th>96449</th>\n",
       "      <td>2016-09-09 20:00:00.000 +0200</td>\n",
       "      <td>Partly Cloudy</td>\n",
       "      <td>rain</td>\n",
       "      <td>24.583333</td>\n",
       "      <td>24.583333</td>\n",
       "      <td>0.48</td>\n",
       "      <td>10.0947</td>\n",
       "      <td>20.0</td>\n",
       "      <td>15.5526</td>\n",
       "      <td>0.0</td>\n",
       "      <td>1015.16</td>\n",
       "      <td>Partly cloudy starting in the morning.</td>\n",
       "    </tr>\n",
       "    <tr>\n",
       "      <th>96450</th>\n",
       "      <td>2016-09-09 21:00:00.000 +0200</td>\n",
       "      <td>Partly Cloudy</td>\n",
       "      <td>rain</td>\n",
       "      <td>22.038889</td>\n",
       "      <td>22.038889</td>\n",
       "      <td>0.56</td>\n",
       "      <td>8.9838</td>\n",
       "      <td>30.0</td>\n",
       "      <td>16.1000</td>\n",
       "      <td>0.0</td>\n",
       "      <td>1015.66</td>\n",
       "      <td>Partly cloudy starting in the morning.</td>\n",
       "    </tr>\n",
       "    <tr>\n",
       "      <th>96451</th>\n",
       "      <td>2016-09-09 22:00:00.000 +0200</td>\n",
       "      <td>Partly Cloudy</td>\n",
       "      <td>rain</td>\n",
       "      <td>21.522222</td>\n",
       "      <td>21.522222</td>\n",
       "      <td>0.60</td>\n",
       "      <td>10.5294</td>\n",
       "      <td>20.0</td>\n",
       "      <td>16.1000</td>\n",
       "      <td>0.0</td>\n",
       "      <td>1015.95</td>\n",
       "      <td>Partly cloudy starting in the morning.</td>\n",
       "    </tr>\n",
       "    <tr>\n",
       "      <th>96452</th>\n",
       "      <td>2016-09-09 23:00:00.000 +0200</td>\n",
       "      <td>Partly Cloudy</td>\n",
       "      <td>rain</td>\n",
       "      <td>20.438889</td>\n",
       "      <td>20.438889</td>\n",
       "      <td>0.61</td>\n",
       "      <td>5.8765</td>\n",
       "      <td>39.0</td>\n",
       "      <td>15.5204</td>\n",
       "      <td>0.0</td>\n",
       "      <td>1016.16</td>\n",
       "      <td>Partly cloudy starting in the morning.</td>\n",
       "    </tr>\n",
       "  </tbody>\n",
       "</table>\n",
       "<p>96453 rows × 12 columns</p>\n",
       "</div>"
      ],
      "text/plain": [
       "                      Formatted Date        Summary Precip Type  \\\n",
       "0      2006-04-01 00:00:00.000 +0200  Partly Cloudy        rain   \n",
       "1      2006-04-01 01:00:00.000 +0200  Partly Cloudy        rain   \n",
       "2      2006-04-01 02:00:00.000 +0200  Mostly Cloudy        rain   \n",
       "3      2006-04-01 03:00:00.000 +0200  Partly Cloudy        rain   \n",
       "4      2006-04-01 04:00:00.000 +0200  Mostly Cloudy        rain   \n",
       "...                              ...            ...         ...   \n",
       "96448  2016-09-09 19:00:00.000 +0200  Partly Cloudy        rain   \n",
       "96449  2016-09-09 20:00:00.000 +0200  Partly Cloudy        rain   \n",
       "96450  2016-09-09 21:00:00.000 +0200  Partly Cloudy        rain   \n",
       "96451  2016-09-09 22:00:00.000 +0200  Partly Cloudy        rain   \n",
       "96452  2016-09-09 23:00:00.000 +0200  Partly Cloudy        rain   \n",
       "\n",
       "       Temperature (C)  Apparent Temperature (C)  Humidity  Wind Speed (km/h)  \\\n",
       "0             9.472222                  7.388889      0.89            14.1197   \n",
       "1             9.355556                  7.227778      0.86            14.2646   \n",
       "2             9.377778                  9.377778      0.89             3.9284   \n",
       "3             8.288889                  5.944444      0.83            14.1036   \n",
       "4             8.755556                  6.977778      0.83            11.0446   \n",
       "...                ...                       ...       ...                ...   \n",
       "96448        26.016667                 26.016667      0.43            10.9963   \n",
       "96449        24.583333                 24.583333      0.48            10.0947   \n",
       "96450        22.038889                 22.038889      0.56             8.9838   \n",
       "96451        21.522222                 21.522222      0.60            10.5294   \n",
       "96452        20.438889                 20.438889      0.61             5.8765   \n",
       "\n",
       "       Wind Bearing (degrees)  Visibility (km)  Loud Cover  \\\n",
       "0                       251.0          15.8263         0.0   \n",
       "1                       259.0          15.8263         0.0   \n",
       "2                       204.0          14.9569         0.0   \n",
       "3                       269.0          15.8263         0.0   \n",
       "4                       259.0          15.8263         0.0   \n",
       "...                       ...              ...         ...   \n",
       "96448                    31.0          16.1000         0.0   \n",
       "96449                    20.0          15.5526         0.0   \n",
       "96450                    30.0          16.1000         0.0   \n",
       "96451                    20.0          16.1000         0.0   \n",
       "96452                    39.0          15.5204         0.0   \n",
       "\n",
       "       Pressure (millibars)                           Daily Summary  \n",
       "0                   1015.13       Partly cloudy throughout the day.  \n",
       "1                   1015.63       Partly cloudy throughout the day.  \n",
       "2                   1015.94       Partly cloudy throughout the day.  \n",
       "3                   1016.41       Partly cloudy throughout the day.  \n",
       "4                   1016.51       Partly cloudy throughout the day.  \n",
       "...                     ...                                     ...  \n",
       "96448               1014.36  Partly cloudy starting in the morning.  \n",
       "96449               1015.16  Partly cloudy starting in the morning.  \n",
       "96450               1015.66  Partly cloudy starting in the morning.  \n",
       "96451               1015.95  Partly cloudy starting in the morning.  \n",
       "96452               1016.16  Partly cloudy starting in the morning.  \n",
       "\n",
       "[96453 rows x 12 columns]"
      ]
     },
     "execution_count": 5,
     "metadata": {},
     "output_type": "execute_result"
    }
   ],
   "source": [
    "\n",
    "data = pd.read_csv(\"weatherHistory.csv\")\n",
    "data"
   ]
  },
  {
   "cell_type": "code",
   "execution_count": 6,
   "id": "4f7a4dda",
   "metadata": {},
   "outputs": [
    {
     "data": {
      "text/plain": [
       "(array(['rain', 'snow', nan], dtype=object),\n",
       " array(['Partly Cloudy', 'Mostly Cloudy', 'Overcast', 'Foggy', 'Breezy and Mostly Cloudy', 'Clear', 'Breezy and Partly Cloudy', 'Breezy and Overcast', 'Humid and Mostly Cloudy', 'Humid and Partly Cloudy', 'Windy and Foggy', 'Windy and Overcast', 'Breezy and Foggy', 'Windy and Partly Cloudy', 'Breezy', 'Dry and Partly Cloudy', 'Windy and Mostly Cloudy', 'Dangerously Windy and Partly Cloudy', 'Dry', 'Windy', 'Humid and Overcast', 'Light Rain', 'Drizzle', 'Windy and Dry', 'Dry and Mostly Cloudy', 'Breezy and Dry', 'Rain'], dtype=object),\n",
       " array(['Partly cloudy throughout the day.', 'Mostly cloudy throughout the day.', 'Foggy in the evening.', 'Foggy overnight and breezy in the morning.', 'Overcast throughout the day.', 'Partly cloudy until night.', 'Mostly cloudy until night.', 'Foggy starting overnight continuing until morning.', 'Foggy in the morning.', 'Partly cloudy until evening.', 'Partly cloudy starting in the morning.', 'Mostly cloudy starting overnight continuing until night.', 'Mostly cloudy until evening.', 'Partly cloudy starting in the morning continuing until evening.', 'Partly cloudy starting in the afternoon.', 'Partly cloudy starting overnight.', 'Partly cloudy until morning.', 'Partly cloudy starting overnight continuing until night.', 'Partly cloudy starting in the afternoon continuing until night.', 'Mostly cloudy starting overnight.', 'Partly cloudy until afternoon.', 'Mostly cloudy until night and breezy in the afternoon.', 'Foggy starting in the evening.', 'Foggy throughout the day.', 'Foggy starting in the evening continuing until night.', 'Mostly cloudy until morning.', 'Foggy starting in the morning continuing until evening.', 'Foggy starting overnight continuing until afternoon.', 'Partly cloudy starting in the morning continuing until afternoon.', 'Foggy starting overnight.', 'Foggy until morning.', 'Foggy starting overnight continuing until evening.', 'Foggy starting in the afternoon.', 'Partly cloudy starting overnight continuing until afternoon.', 'Partly cloudy starting in the morning continuing until night.', 'Overcast until night.', 'Mostly cloudy starting overnight continuing until evening.', 'Foggy overnight.', 'Partly cloudy in the morning.', 'Mostly cloudy starting in the morning.', 'Foggy starting in the afternoon continuing until evening.', 'Mostly cloudy until afternoon.', 'Foggy starting overnight continuing until night.', 'Mostly cloudy throughout the day and breezy in the evening.', 'Foggy starting in the morning continuing until afternoon.', 'Partly cloudy in the afternoon.', 'Clear throughout the day.', 'Partly cloudy starting in the afternoon continuing until evening.', 'Partly cloudy overnight.', 'Overcast until evening.', 'Foggy in the morning and breezy starting in the afternoon continuing until night.', 'Breezy starting overnight continuing until afternoon and foggy starting in the morning continuing until evening.', 'Partly cloudy starting overnight continuing until morning.', 'Mostly cloudy throughout the day and breezy in the afternoon.', 'Mostly cloudy starting overnight and breezy in the afternoon.', 'Partly cloudy throughout the day and breezy starting in the morning continuing until night.', 'Mostly cloudy throughout the day and breezy in the morning.', 'Partly cloudy starting in the evening continuing until night.', 'Mostly cloudy until night and breezy starting in the morning continuing until afternoon.', 'Partly cloudy starting in the morning continuing until evening and breezy starting in the morning continuing until afternoon.', 'Partly cloudy throughout the day and breezy starting in the morning continuing until afternoon.', 'Partly cloudy throughout the day and breezy starting in the morning continuing until evening.', 'Foggy until afternoon.', 'Overcast until night and breezy overnight.', 'Breezy until morning and mostly cloudy throughout the day.', 'Mostly cloudy starting in the morning continuing until night.', 'Breezy starting overnight continuing until morning and partly cloudy starting overnight continuing until evening.', 'Partly cloudy in the evening.', 'Mostly cloudy starting overnight continuing until afternoon.', 'Mostly cloudy starting in the morning continuing until afternoon.', 'Mostly cloudy starting in the afternoon.', 'Mostly cloudy starting in the morning continuing until evening.', 'Partly cloudy starting overnight continuing until afternoon and breezy in the afternoon.', 'Partly cloudy starting overnight and breezy in the afternoon.', 'Mostly cloudy starting in the morning and breezy in the evening.', 'Foggy starting in the afternoon continuing until night.', 'Foggy until night.', 'Foggy starting in the morning continuing until night.', 'Foggy until evening.', 'Foggy starting in the morning.', 'Partly cloudy starting overnight continuing until evening.', 'Partly cloudy starting overnight continuing until evening and breezy starting in the morning continuing until evening.', 'Breezy starting overnight continuing until morning and foggy in the evening.', 'Mostly cloudy throughout the day and breezy starting in the morning continuing until evening.', 'Partly cloudy until evening and breezy starting in the morning continuing until afternoon.', 'Mostly cloudy starting in the afternoon continuing until night.', 'Breezy starting overnight continuing until afternoon and mostly cloudy starting overnight continuing until evening.', 'Mostly cloudy throughout the day and windy starting in the morning continuing until evening.', 'Breezy and partly cloudy in the afternoon.', 'Mostly cloudy starting overnight and breezy starting in the morning continuing until afternoon.', 'Partly cloudy until night and breezy starting in the morning continuing until afternoon.', 'Breezy and mostly cloudy overnight.', 'Mostly cloudy throughout the day and breezy overnight.', 'Mostly cloudy throughout the day and breezy starting in the morning continuing until afternoon.', 'Partly cloudy throughout the day and breezy in the morning.', 'Partly cloudy starting in the morning continuing until evening and breezy starting in the afternoon continuing until evening.', 'Partly cloudy throughout the day and breezy starting in the afternoon continuing until evening.', 'Mostly cloudy starting overnight and breezy in the morning.', 'Partly cloudy starting in the afternoon and breezy in the afternoon.', 'Partly cloudy starting in the morning and breezy in the evening.', 'Partly cloudy until evening and breezy in the morning.', 'Partly cloudy starting overnight continuing until evening and breezy starting in the morning continuing until afternoon.', 'Partly cloudy starting overnight continuing until evening and breezy in the evening.', 'Mostly cloudy throughout the day and breezy starting in the evening.', 'Mostly cloudy throughout the day and windy starting in the morning continuing until night.', 'Breezy starting overnight continuing until morning and partly cloudy starting in the morning.', 'Mostly cloudy starting in the morning and breezy overnight.', 'Overcast throughout the day and breezy starting overnight continuing until morning.', 'Partly cloudy throughout the day and breezy in the evening.', 'Mostly cloudy until evening and breezy starting in the morning continuing until afternoon.', 'Mostly cloudy until night and breezy in the evening.', 'Partly cloudy starting in the evening.', 'Overcast starting in the morning.', 'Mostly cloudy starting overnight continuing until evening and breezy starting overnight continuing until morning.', 'Partly cloudy starting overnight continuing until morning and breezy starting in the morning continuing until afternoon.', 'Partly cloudy until evening and breezy starting in the morning continuing until evening.', 'Breezy starting in the morning continuing until afternoon and partly cloudy starting in the morning.', 'Partly cloudy starting in the morning and breezy starting in the afternoon continuing until evening.', 'Mostly cloudy starting overnight continuing until morning.', 'Mostly cloudy throughout the day and breezy starting overnight continuing until afternoon.', 'Breezy starting overnight continuing until morning and foggy overnight.', 'Mostly cloudy throughout the day and breezy starting overnight continuing until morning.', 'Overcast throughout the day and breezy in the morning.', 'Overcast throughout the day and breezy in the evening.', 'Mostly cloudy starting in the morning continuing until night and breezy in the afternoon.', 'Mostly cloudy until night and breezy starting in the evening continuing until night.', 'Partly cloudy until night and breezy in the morning.', 'Partly cloudy until evening and breezy overnight.', 'Partly cloudy starting overnight continuing until night and windy starting in the morning continuing until afternoon.', 'Breezy starting in the morning continuing until afternoon and mostly cloudy starting in the morning.', 'Foggy starting overnight continuing until morning and breezy starting in the evening.', 'Mostly cloudy until night and breezy starting in the afternoon.', 'Foggy in the afternoon.', 'Mostly cloudy until night and breezy starting in the afternoon continuing until night.', 'Foggy starting overnight continuing until morning and breezy starting in the evening continuing until night.', 'Breezy until afternoon and mostly cloudy throughout the day.', 'Mostly cloudy throughout the day and breezy starting in the morning continuing until night.', 'Partly cloudy starting overnight continuing until evening and breezy in the morning.', 'Mostly cloudy starting in the morning and breezy in the afternoon.', 'Mostly cloudy starting overnight continuing until night and breezy starting in the morning continuing until evening.', 'Foggy starting overnight continuing until morning and breezy starting in the morning continuing until afternoon.', 'Mostly cloudy until evening and windy starting in the morning continuing until afternoon.', 'Foggy starting overnight continuing until afternoon and breezy in the morning.', 'Foggy starting in the morning continuing until afternoon and breezy starting in the evening.', 'Partly cloudy starting overnight and breezy starting in the morning continuing until afternoon.', 'Foggy starting overnight continuing until morning and breezy in the afternoon.', 'Mostly cloudy starting overnight and breezy starting in the afternoon continuing until evening.', 'Overcast throughout the day and breezy starting overnight continuing until afternoon.', 'Partly cloudy starting in the morning continuing until evening and breezy in the afternoon.', 'Partly cloudy starting in the morning continuing until night and breezy starting in the afternoon continuing until evening.', 'Mostly cloudy until night and breezy starting in the evening.', 'Breezy in the morning and mostly cloudy starting in the morning.', 'Mostly cloudy until night and breezy starting in the morning continuing until evening.', 'Partly cloudy starting overnight continuing until evening and windy starting in the morning continuing until evening.', 'Breezy in the morning and partly cloudy starting in the evening continuing until night.', 'Partly cloudy overnight and breezy starting in the morning continuing until afternoon.', 'Light rain in the morning.', 'Light rain until morning.', 'Light rain in the morning and afternoon.', 'Partly cloudy starting in the morning continuing until night and breezy starting in the morning continuing until afternoon.', 'Breezy starting in the afternoon continuing until night and mostly cloudy starting in the evening.', 'Mostly cloudy throughout the day and breezy starting in the evening continuing until night.', 'Foggy starting in the afternoon and breezy starting in the afternoon continuing until evening.', 'Breezy and foggy until morning.', 'Mostly cloudy until night and breezy starting overnight continuing until morning.', 'Partly cloudy starting overnight continuing until night and breezy in the morning.', 'Partly cloudy starting overnight continuing until night and breezy in the afternoon.', 'Mostly cloudy starting in the morning and breezy starting in the afternoon continuing until evening.', 'Partly cloudy starting overnight and breezy starting in the evening.', 'Breezy overnight and overcast throughout the day.', 'Partly cloudy until night and breezy in the afternoon.', 'Mostly cloudy starting overnight and breezy starting in the evening.', 'Breezy overnight and partly cloudy until evening.', 'Mostly cloudy starting in the evening.', 'Mostly cloudy throughout the day and breezy starting in the afternoon.', 'Mostly cloudy throughout the day and breezy starting in the afternoon continuing until evening.', 'Mostly cloudy until night and windy starting in the morning continuing until afternoon.', 'Breezy and foggy starting in the evening.', 'Breezy overnight and partly cloudy throughout the day.', 'Overcast throughout the day and breezy starting in the evening.', 'Breezy until evening and foggy in the morning.', 'Breezy overnight and mostly cloudy throughout the day.', 'Partly cloudy until evening and breezy in the afternoon.', 'Partly cloudy starting in the morning and breezy starting in the morning continuing until afternoon.', 'Mostly cloudy until evening and breezy in the evening.', 'Windy in the afternoon.', 'Overcast until morning.', 'Mostly cloudy overnight.', 'Foggy starting in the morning continuing until evening and breezy in the evening.', 'Breezy starting overnight continuing until morning.', 'Breezy starting in the afternoon continuing until evening and foggy starting in the evening.', 'Mostly cloudy until night and breezy overnight.', 'Mostly cloudy starting in the morning and windy in the evening.', 'Partly cloudy throughout the day and windy starting in the morning continuing until afternoon.', 'Breezy until afternoon and overcast throughout the day.', 'Breezy in the morning and foggy in the evening.', 'Breezy starting in the afternoon continuing until evening and foggy in the evening.', 'Breezy starting in the morning continuing until night.', 'Breezy in the morning and mostly cloudy starting in the evening.', 'Mostly cloudy until evening and breezy in the afternoon.', 'Mostly cloudy until night and breezy starting in the afternoon continuing until evening.', 'Mostly cloudy until evening and breezy starting overnight continuing until morning.', 'Overcast throughout the day and breezy in the afternoon.', 'Overcast throughout the day and breezy starting in the morning continuing until evening.', 'Overcast throughout the day and breezy overnight.', 'Overcast starting in the afternoon.', 'Partly cloudy throughout the day and breezy in the afternoon.', 'Light rain starting overnight.', 'Drizzle starting in the evening.', 'Drizzle until morning.', 'Rain throughout the day.', 'Rain until morning.', 'Light rain overnight.', 'Rain until afternoon.'], dtype=object))"
      ]
     },
     "execution_count": 6,
     "metadata": {},
     "output_type": "execute_result"
    }
   ],
   "source": [
    "data[\"Precip Type\"].unique(), data[\"Summary\"].unique(), data[\"Daily Summary\"].unique()"
   ]
  },
  {
   "cell_type": "markdown",
   "id": "363f273a",
   "metadata": {},
   "source": [
    "# Preprosesamiento"
   ]
  },
  {
   "cell_type": "code",
   "execution_count": 7,
   "id": "c19a1312",
   "metadata": {},
   "outputs": [],
   "source": [
    "df_encoded = data.copy()"
   ]
  },
  {
   "cell_type": "markdown",
   "id": "5860b450",
   "metadata": {},
   "source": [
    "- Conversion de variables categoricas"
   ]
  },
  {
   "cell_type": "markdown",
   "id": "b231556c",
   "metadata": {},
   "source": [
    "Codificamos la precipitacion en \"Llovio\" o \"Nevo\""
   ]
  },
  {
   "cell_type": "code",
   "execution_count": 8,
   "id": "eef294bb",
   "metadata": {},
   "outputs": [],
   "source": [
    "df_encoded = pd.get_dummies(data, columns=['Precip Type'], prefix='Precip')"
   ]
  },
  {
   "cell_type": "code",
   "execution_count": 9,
   "id": "d543ed74",
   "metadata": {},
   "outputs": [
    {
     "data": {
      "text/html": [
       "<div>\n",
       "<style scoped>\n",
       "    .dataframe tbody tr th:only-of-type {\n",
       "        vertical-align: middle;\n",
       "    }\n",
       "\n",
       "    .dataframe tbody tr th {\n",
       "        vertical-align: top;\n",
       "    }\n",
       "\n",
       "    .dataframe thead th {\n",
       "        text-align: right;\n",
       "    }\n",
       "</style>\n",
       "<table border=\"1\" class=\"dataframe\">\n",
       "  <thead>\n",
       "    <tr style=\"text-align: right;\">\n",
       "      <th></th>\n",
       "      <th>Precip_rain</th>\n",
       "      <th>Precip_snow</th>\n",
       "    </tr>\n",
       "  </thead>\n",
       "  <tbody>\n",
       "    <tr>\n",
       "      <th>80438</th>\n",
       "      <td>True</td>\n",
       "      <td>False</td>\n",
       "    </tr>\n",
       "    <tr>\n",
       "      <th>67689</th>\n",
       "      <td>True</td>\n",
       "      <td>False</td>\n",
       "    </tr>\n",
       "    <tr>\n",
       "      <th>37553</th>\n",
       "      <td>True</td>\n",
       "      <td>False</td>\n",
       "    </tr>\n",
       "    <tr>\n",
       "      <th>70567</th>\n",
       "      <td>True</td>\n",
       "      <td>False</td>\n",
       "    </tr>\n",
       "    <tr>\n",
       "      <th>24885</th>\n",
       "      <td>True</td>\n",
       "      <td>False</td>\n",
       "    </tr>\n",
       "    <tr>\n",
       "      <th>25951</th>\n",
       "      <td>True</td>\n",
       "      <td>False</td>\n",
       "    </tr>\n",
       "    <tr>\n",
       "      <th>45310</th>\n",
       "      <td>True</td>\n",
       "      <td>False</td>\n",
       "    </tr>\n",
       "    <tr>\n",
       "      <th>59421</th>\n",
       "      <td>True</td>\n",
       "      <td>False</td>\n",
       "    </tr>\n",
       "    <tr>\n",
       "      <th>69591</th>\n",
       "      <td>True</td>\n",
       "      <td>False</td>\n",
       "    </tr>\n",
       "    <tr>\n",
       "      <th>79566</th>\n",
       "      <td>True</td>\n",
       "      <td>False</td>\n",
       "    </tr>\n",
       "  </tbody>\n",
       "</table>\n",
       "</div>"
      ],
      "text/plain": [
       "       Precip_rain  Precip_snow\n",
       "80438         True        False\n",
       "67689         True        False\n",
       "37553         True        False\n",
       "70567         True        False\n",
       "24885         True        False\n",
       "25951         True        False\n",
       "45310         True        False\n",
       "59421         True        False\n",
       "69591         True        False\n",
       "79566         True        False"
      ]
     },
     "execution_count": 9,
     "metadata": {},
     "output_type": "execute_result"
    }
   ],
   "source": [
    "df_encoded[[\"Precip_rain\", \"Precip_snow\"]].sample(10)"
   ]
  },
  {
   "cell_type": "markdown",
   "id": "ef184bf3",
   "metadata": {},
   "source": [
    "Codificamos la categoria \"Summary\" puntuado segun nubosidad, intensidad de viento, humedad y precipitacion"
   ]
  },
  {
   "cell_type": "code",
   "execution_count": 10,
   "id": "1b068afa",
   "metadata": {},
   "outputs": [],
   "source": [
    "cloudy_map = {\n",
    "    'Clear': 0,\n",
    "    'Partly Cloudy': 1,\n",
    "    'Mostly Cloudy': 2,\n",
    "    'Overcast': 3,\n",
    "    'Foggy': 4\n",
    "}\n",
    "\n",
    "wind_map = {\n",
    "    'None': 0,\n",
    "    'Breezy': 1,\n",
    "    'Windy': 2,\n",
    "    'Dangerously Windy': 3\n",
    "}\n",
    "humidity_map = {\n",
    "    'None': 0,\n",
    "    'Dry': 1,\n",
    "    'Humid': 2\n",
    "}\n",
    "\n",
    "precip_map = {\n",
    "    'None': 0,\n",
    "    'Drizzle': 1,\n",
    "    'Light Rain': 2,\n",
    "    'Rain': 3\n",
    "}\n",
    "\n",
    "def extract_features(summary):\n",
    "    cloud = None\n",
    "    wind = 'None'\n",
    "    humidity = 'None'\n",
    "    precip = 'None'\n",
    "  \n",
    "    for cloud_type in ['Clear', 'Partly Cloudy', 'Mostly Cloudy', 'Overcast', 'Foggy']:\n",
    "        if cloud_type in summary:\n",
    "            cloud = cloud_type\n",
    "            break\n",
    "    \n",
    "    # Buscar componente de viento\n",
    "    if 'Dangerously Windy' in summary:\n",
    "        wind = 'Dangerously Windy'\n",
    "    elif 'Windy' in summary:\n",
    "        wind = 'Windy'\n",
    "    elif 'Breezy' in summary:\n",
    "        wind = 'Breezy'\n",
    "    \n",
    "    # Buscar componente de humedad\n",
    "    if 'Humid' in summary:\n",
    "        humidity = 'Humid'\n",
    "    elif 'Dry' in summary:\n",
    "        humidity = 'Dry'\n",
    "    \n",
    "    # Buscar componente de precipitación\n",
    "    if 'Rain' in summary and 'Light' not in summary:\n",
    "        precip = 'Rain'\n",
    "    elif 'Light Rain' in summary:\n",
    "        precip = 'Light Rain'\n",
    "    elif 'Drizzle' in summary:\n",
    "        precip = 'Drizzle'\n",
    "    \n",
    "    return cloud, wind, humidity, precip\n",
    "\n",
    "# Aplicar la función a cada resumen\n",
    "df_encoded['cloud_value_hour'] = data['Summary'].apply(lambda x: cloudy_map.get(extract_features(x)[0], 0))\n",
    "df_encoded['wind_value_hour'] = data['Summary'].apply(lambda x: wind_map.get(extract_features(x)[1], 0))\n",
    "df_encoded['humidity_value_hour'] = data['Summary'].apply(lambda x: humidity_map.get(extract_features(x)[2], 0))\n",
    "df_encoded['precip_value_hour'] = data['Summary'].apply(lambda x: precip_map.get(extract_features(x)[3], 0))"
   ]
  },
  {
   "cell_type": "code",
   "execution_count": 11,
   "id": "04f5b693",
   "metadata": {},
   "outputs": [
    {
     "data": {
      "text/html": [
       "<div>\n",
       "<style scoped>\n",
       "    .dataframe tbody tr th:only-of-type {\n",
       "        vertical-align: middle;\n",
       "    }\n",
       "\n",
       "    .dataframe tbody tr th {\n",
       "        vertical-align: top;\n",
       "    }\n",
       "\n",
       "    .dataframe thead th {\n",
       "        text-align: right;\n",
       "    }\n",
       "</style>\n",
       "<table border=\"1\" class=\"dataframe\">\n",
       "  <thead>\n",
       "    <tr style=\"text-align: right;\">\n",
       "      <th></th>\n",
       "      <th>Summary</th>\n",
       "      <th>cloud_value_hour</th>\n",
       "      <th>wind_value_hour</th>\n",
       "      <th>humidity_value_hour</th>\n",
       "      <th>precip_value_hour</th>\n",
       "    </tr>\n",
       "  </thead>\n",
       "  <tbody>\n",
       "    <tr>\n",
       "      <th>36490</th>\n",
       "      <td>Mostly Cloudy</td>\n",
       "      <td>2</td>\n",
       "      <td>0</td>\n",
       "      <td>0</td>\n",
       "      <td>0</td>\n",
       "    </tr>\n",
       "    <tr>\n",
       "      <th>28271</th>\n",
       "      <td>Mostly Cloudy</td>\n",
       "      <td>2</td>\n",
       "      <td>0</td>\n",
       "      <td>0</td>\n",
       "      <td>0</td>\n",
       "    </tr>\n",
       "    <tr>\n",
       "      <th>22068</th>\n",
       "      <td>Mostly Cloudy</td>\n",
       "      <td>2</td>\n",
       "      <td>0</td>\n",
       "      <td>0</td>\n",
       "      <td>0</td>\n",
       "    </tr>\n",
       "    <tr>\n",
       "      <th>95164</th>\n",
       "      <td>Drizzle</td>\n",
       "      <td>0</td>\n",
       "      <td>0</td>\n",
       "      <td>0</td>\n",
       "      <td>1</td>\n",
       "    </tr>\n",
       "    <tr>\n",
       "      <th>47807</th>\n",
       "      <td>Partly Cloudy</td>\n",
       "      <td>1</td>\n",
       "      <td>0</td>\n",
       "      <td>0</td>\n",
       "      <td>0</td>\n",
       "    </tr>\n",
       "    <tr>\n",
       "      <th>55019</th>\n",
       "      <td>Overcast</td>\n",
       "      <td>3</td>\n",
       "      <td>0</td>\n",
       "      <td>0</td>\n",
       "      <td>0</td>\n",
       "    </tr>\n",
       "    <tr>\n",
       "      <th>92185</th>\n",
       "      <td>Mostly Cloudy</td>\n",
       "      <td>2</td>\n",
       "      <td>0</td>\n",
       "      <td>0</td>\n",
       "      <td>0</td>\n",
       "    </tr>\n",
       "    <tr>\n",
       "      <th>32673</th>\n",
       "      <td>Partly Cloudy</td>\n",
       "      <td>1</td>\n",
       "      <td>0</td>\n",
       "      <td>0</td>\n",
       "      <td>0</td>\n",
       "    </tr>\n",
       "    <tr>\n",
       "      <th>30910</th>\n",
       "      <td>Mostly Cloudy</td>\n",
       "      <td>2</td>\n",
       "      <td>0</td>\n",
       "      <td>0</td>\n",
       "      <td>0</td>\n",
       "    </tr>\n",
       "    <tr>\n",
       "      <th>60542</th>\n",
       "      <td>Partly Cloudy</td>\n",
       "      <td>1</td>\n",
       "      <td>0</td>\n",
       "      <td>0</td>\n",
       "      <td>0</td>\n",
       "    </tr>\n",
       "  </tbody>\n",
       "</table>\n",
       "</div>"
      ],
      "text/plain": [
       "             Summary  cloud_value_hour  wind_value_hour  humidity_value_hour  \\\n",
       "36490  Mostly Cloudy                 2                0                    0   \n",
       "28271  Mostly Cloudy                 2                0                    0   \n",
       "22068  Mostly Cloudy                 2                0                    0   \n",
       "95164        Drizzle                 0                0                    0   \n",
       "47807  Partly Cloudy                 1                0                    0   \n",
       "55019       Overcast                 3                0                    0   \n",
       "92185  Mostly Cloudy                 2                0                    0   \n",
       "32673  Partly Cloudy                 1                0                    0   \n",
       "30910  Mostly Cloudy                 2                0                    0   \n",
       "60542  Partly Cloudy                 1                0                    0   \n",
       "\n",
       "       precip_value_hour  \n",
       "36490                  0  \n",
       "28271                  0  \n",
       "22068                  0  \n",
       "95164                  1  \n",
       "47807                  0  \n",
       "55019                  0  \n",
       "92185                  0  \n",
       "32673                  0  \n",
       "30910                  0  \n",
       "60542                  0  "
      ]
     },
     "execution_count": 11,
     "metadata": {},
     "output_type": "execute_result"
    }
   ],
   "source": [
    "df_encoded[[\"Summary\", \"cloud_value_hour\", \"wind_value_hour\", \"humidity_value_hour\", \"precip_value_hour\"]].sample(10)"
   ]
  },
  {
   "cell_type": "markdown",
   "id": "e0970b49",
   "metadata": {},
   "source": [
    "Convertimos la columna de fecha en la etiqueta considerando solo las horas del dia"
   ]
  },
  {
   "cell_type": "code",
   "execution_count": 12,
   "id": "971f2a8f",
   "metadata": {},
   "outputs": [],
   "source": [
    "y = pd.DataFrame()"
   ]
  },
  {
   "cell_type": "code",
   "execution_count": 13,
   "id": "0206d820",
   "metadata": {},
   "outputs": [
    {
     "data": {
      "text/html": [
       "<div>\n",
       "<style scoped>\n",
       "    .dataframe tbody tr th:only-of-type {\n",
       "        vertical-align: middle;\n",
       "    }\n",
       "\n",
       "    .dataframe tbody tr th {\n",
       "        vertical-align: top;\n",
       "    }\n",
       "\n",
       "    .dataframe thead th {\n",
       "        text-align: right;\n",
       "    }\n",
       "</style>\n",
       "<table border=\"1\" class=\"dataframe\">\n",
       "  <thead>\n",
       "    <tr style=\"text-align: right;\">\n",
       "      <th></th>\n",
       "      <th>Hour</th>\n",
       "    </tr>\n",
       "  </thead>\n",
       "  <tbody>\n",
       "    <tr>\n",
       "      <th>998</th>\n",
       "      <td>14</td>\n",
       "    </tr>\n",
       "    <tr>\n",
       "      <th>87327</th>\n",
       "      <td>18</td>\n",
       "    </tr>\n",
       "    <tr>\n",
       "      <th>85672</th>\n",
       "      <td>20</td>\n",
       "    </tr>\n",
       "    <tr>\n",
       "      <th>10615</th>\n",
       "      <td>7</td>\n",
       "    </tr>\n",
       "    <tr>\n",
       "      <th>9817</th>\n",
       "      <td>1</td>\n",
       "    </tr>\n",
       "  </tbody>\n",
       "</table>\n",
       "</div>"
      ],
      "text/plain": [
       "       Hour\n",
       "998      14\n",
       "87327    18\n",
       "85672    20\n",
       "10615     7\n",
       "9817      1"
      ]
     },
     "execution_count": 13,
     "metadata": {},
     "output_type": "execute_result"
    }
   ],
   "source": [
    "y['Hour'] = df_encoded['Formatted Date'].str.split(' ').str[1].str.split(':').str[0].astype(int)\n",
    "y.sample(5)"
   ]
  },
  {
   "cell_type": "markdown",
   "id": "f96f608b",
   "metadata": {},
   "source": [
    "Modificamos las etiquetas para considerar un grupo de horas como horarios (madrugada, dia, tarde y noche)"
   ]
  },
  {
   "cell_type": "code",
   "execution_count": 62,
   "id": "5e585a3e",
   "metadata": {},
   "outputs": [
    {
     "data": {
      "text/html": [
       "<div>\n",
       "<style scoped>\n",
       "    .dataframe tbody tr th:only-of-type {\n",
       "        vertical-align: middle;\n",
       "    }\n",
       "\n",
       "    .dataframe tbody tr th {\n",
       "        vertical-align: top;\n",
       "    }\n",
       "\n",
       "    .dataframe thead th {\n",
       "        text-align: right;\n",
       "    }\n",
       "</style>\n",
       "<table border=\"1\" class=\"dataframe\">\n",
       "  <thead>\n",
       "    <tr style=\"text-align: right;\">\n",
       "      <th></th>\n",
       "      <th>Hour</th>\n",
       "      <th>Schedule1</th>\n",
       "      <th>Schedule2</th>\n",
       "    </tr>\n",
       "  </thead>\n",
       "  <tbody>\n",
       "    <tr>\n",
       "      <th>12781</th>\n",
       "      <td>13</td>\n",
       "      <td>2</td>\n",
       "      <td>2</td>\n",
       "    </tr>\n",
       "    <tr>\n",
       "      <th>25610</th>\n",
       "      <td>2</td>\n",
       "      <td>0</td>\n",
       "      <td>0</td>\n",
       "    </tr>\n",
       "    <tr>\n",
       "      <th>4155</th>\n",
       "      <td>3</td>\n",
       "      <td>0</td>\n",
       "      <td>0</td>\n",
       "    </tr>\n",
       "    <tr>\n",
       "      <th>58404</th>\n",
       "      <td>13</td>\n",
       "      <td>2</td>\n",
       "      <td>2</td>\n",
       "    </tr>\n",
       "    <tr>\n",
       "      <th>49270</th>\n",
       "      <td>22</td>\n",
       "      <td>3</td>\n",
       "      <td>0</td>\n",
       "    </tr>\n",
       "  </tbody>\n",
       "</table>\n",
       "</div>"
      ],
      "text/plain": [
       "       Hour  Schedule1  Schedule2\n",
       "12781    13          2          2\n",
       "25610     2          0          0\n",
       "4155      3          0          0\n",
       "58404    13          2          2\n",
       "49270    22          3          0"
      ]
     },
     "execution_count": 62,
     "metadata": {},
     "output_type": "execute_result"
    }
   ],
   "source": [
    "def categorize_hour1(hour):\n",
    "    if 0 <= hour <= 5:\n",
    "        return 0\n",
    "    elif 6 <= hour <= 11:\n",
    "        return 1\n",
    "    elif 12 <= hour <= 17:\n",
    "        return 2\n",
    "    elif 18 <= hour <= 23:\n",
    "        return 3\n",
    "    \n",
    "def categorize_hour2(hour):\n",
    "    if 20 <= hour or hour <= 3:\n",
    "        return 0\n",
    "    elif 4 <= hour <= 11:\n",
    "        return 1\n",
    "    elif 12 <= hour <= 19:\n",
    "        return 2\n",
    "\n",
    "y['Schedule1'] = y['Hour'].apply(categorize_hour1)\n",
    "y['Schedule2'] = y['Hour'].apply(categorize_hour2)\n",
    "y.sample(5)"
   ]
  },
  {
   "cell_type": "markdown",
   "id": "0f72cf9d",
   "metadata": {},
   "source": [
    "Eliminamos las columnas irrelevantes"
   ]
  },
  {
   "cell_type": "code",
   "execution_count": 15,
   "id": "3971ebca",
   "metadata": {},
   "outputs": [],
   "source": [
    "df_encoded.drop(columns=[\"Formatted Date\", \"Summary\", \"Daily Summary\"], inplace=True)"
   ]
  },
  {
   "cell_type": "code",
   "execution_count": 16,
   "id": "c07a129a",
   "metadata": {},
   "outputs": [
    {
     "data": {
      "text/html": [
       "<div>\n",
       "<style scoped>\n",
       "    .dataframe tbody tr th:only-of-type {\n",
       "        vertical-align: middle;\n",
       "    }\n",
       "\n",
       "    .dataframe tbody tr th {\n",
       "        vertical-align: top;\n",
       "    }\n",
       "\n",
       "    .dataframe thead th {\n",
       "        text-align: right;\n",
       "    }\n",
       "</style>\n",
       "<table border=\"1\" class=\"dataframe\">\n",
       "  <thead>\n",
       "    <tr style=\"text-align: right;\">\n",
       "      <th></th>\n",
       "      <th>Temperature (C)</th>\n",
       "      <th>Apparent Temperature (C)</th>\n",
       "      <th>Humidity</th>\n",
       "      <th>Wind Speed (km/h)</th>\n",
       "      <th>Wind Bearing (degrees)</th>\n",
       "      <th>Visibility (km)</th>\n",
       "      <th>Loud Cover</th>\n",
       "      <th>Pressure (millibars)</th>\n",
       "      <th>Precip_rain</th>\n",
       "      <th>Precip_snow</th>\n",
       "      <th>cloud_value_hour</th>\n",
       "      <th>wind_value_hour</th>\n",
       "      <th>humidity_value_hour</th>\n",
       "      <th>precip_value_hour</th>\n",
       "    </tr>\n",
       "  </thead>\n",
       "  <tbody>\n",
       "    <tr>\n",
       "      <th>33742</th>\n",
       "      <td>5.555556</td>\n",
       "      <td>1.300000</td>\n",
       "      <td>0.69</td>\n",
       "      <td>24.4720</td>\n",
       "      <td>311.0</td>\n",
       "      <td>15.1501</td>\n",
       "      <td>0.0</td>\n",
       "      <td>1011.15</td>\n",
       "      <td>True</td>\n",
       "      <td>False</td>\n",
       "      <td>2</td>\n",
       "      <td>0</td>\n",
       "      <td>0</td>\n",
       "      <td>0</td>\n",
       "    </tr>\n",
       "    <tr>\n",
       "      <th>21803</th>\n",
       "      <td>26.005556</td>\n",
       "      <td>26.005556</td>\n",
       "      <td>0.55</td>\n",
       "      <td>23.2645</td>\n",
       "      <td>299.0</td>\n",
       "      <td>11.4471</td>\n",
       "      <td>0.0</td>\n",
       "      <td>1009.40</td>\n",
       "      <td>True</td>\n",
       "      <td>False</td>\n",
       "      <td>1</td>\n",
       "      <td>0</td>\n",
       "      <td>0</td>\n",
       "      <td>0</td>\n",
       "    </tr>\n",
       "    <tr>\n",
       "      <th>16807</th>\n",
       "      <td>6.111111</td>\n",
       "      <td>6.111111</td>\n",
       "      <td>0.87</td>\n",
       "      <td>0.1449</td>\n",
       "      <td>280.0</td>\n",
       "      <td>9.6117</td>\n",
       "      <td>0.0</td>\n",
       "      <td>1023.95</td>\n",
       "      <td>True</td>\n",
       "      <td>False</td>\n",
       "      <td>2</td>\n",
       "      <td>0</td>\n",
       "      <td>0</td>\n",
       "      <td>0</td>\n",
       "    </tr>\n",
       "    <tr>\n",
       "      <th>73812</th>\n",
       "      <td>23.794444</td>\n",
       "      <td>23.794444</td>\n",
       "      <td>0.54</td>\n",
       "      <td>9.1931</td>\n",
       "      <td>29.0</td>\n",
       "      <td>16.1000</td>\n",
       "      <td>0.0</td>\n",
       "      <td>1006.12</td>\n",
       "      <td>True</td>\n",
       "      <td>False</td>\n",
       "      <td>1</td>\n",
       "      <td>0</td>\n",
       "      <td>0</td>\n",
       "      <td>0</td>\n",
       "    </tr>\n",
       "    <tr>\n",
       "      <th>17580</th>\n",
       "      <td>17.822222</td>\n",
       "      <td>17.822222</td>\n",
       "      <td>0.59</td>\n",
       "      <td>15.4238</td>\n",
       "      <td>181.0</td>\n",
       "      <td>11.2056</td>\n",
       "      <td>0.0</td>\n",
       "      <td>1003.68</td>\n",
       "      <td>True</td>\n",
       "      <td>False</td>\n",
       "      <td>2</td>\n",
       "      <td>0</td>\n",
       "      <td>0</td>\n",
       "      <td>0</td>\n",
       "    </tr>\n",
       "    <tr>\n",
       "      <th>54630</th>\n",
       "      <td>-2.455556</td>\n",
       "      <td>-5.922222</td>\n",
       "      <td>0.77</td>\n",
       "      <td>8.9838</td>\n",
       "      <td>120.0</td>\n",
       "      <td>9.6761</td>\n",
       "      <td>0.0</td>\n",
       "      <td>1027.91</td>\n",
       "      <td>False</td>\n",
       "      <td>True</td>\n",
       "      <td>1</td>\n",
       "      <td>0</td>\n",
       "      <td>0</td>\n",
       "      <td>0</td>\n",
       "    </tr>\n",
       "    <tr>\n",
       "      <th>2996</th>\n",
       "      <td>-0.022222</td>\n",
       "      <td>-3.183333</td>\n",
       "      <td>0.92</td>\n",
       "      <td>9.4829</td>\n",
       "      <td>327.0</td>\n",
       "      <td>2.9785</td>\n",
       "      <td>0.0</td>\n",
       "      <td>1037.15</td>\n",
       "      <td>False</td>\n",
       "      <td>True</td>\n",
       "      <td>4</td>\n",
       "      <td>0</td>\n",
       "      <td>0</td>\n",
       "      <td>0</td>\n",
       "    </tr>\n",
       "    <tr>\n",
       "      <th>80258</th>\n",
       "      <td>19.577778</td>\n",
       "      <td>19.577778</td>\n",
       "      <td>0.92</td>\n",
       "      <td>4.0733</td>\n",
       "      <td>18.0</td>\n",
       "      <td>12.0428</td>\n",
       "      <td>0.0</td>\n",
       "      <td>1015.73</td>\n",
       "      <td>True</td>\n",
       "      <td>False</td>\n",
       "      <td>1</td>\n",
       "      <td>0</td>\n",
       "      <td>0</td>\n",
       "      <td>0</td>\n",
       "    </tr>\n",
       "    <tr>\n",
       "      <th>18016</th>\n",
       "      <td>19.005556</td>\n",
       "      <td>19.005556</td>\n",
       "      <td>0.33</td>\n",
       "      <td>17.2270</td>\n",
       "      <td>21.0</td>\n",
       "      <td>9.9820</td>\n",
       "      <td>0.0</td>\n",
       "      <td>1020.20</td>\n",
       "      <td>True</td>\n",
       "      <td>False</td>\n",
       "      <td>1</td>\n",
       "      <td>0</td>\n",
       "      <td>0</td>\n",
       "      <td>0</td>\n",
       "    </tr>\n",
       "    <tr>\n",
       "      <th>25138</th>\n",
       "      <td>18.738889</td>\n",
       "      <td>18.738889</td>\n",
       "      <td>0.62</td>\n",
       "      <td>9.7244</td>\n",
       "      <td>200.0</td>\n",
       "      <td>9.9820</td>\n",
       "      <td>0.0</td>\n",
       "      <td>1012.12</td>\n",
       "      <td>True</td>\n",
       "      <td>False</td>\n",
       "      <td>2</td>\n",
       "      <td>0</td>\n",
       "      <td>0</td>\n",
       "      <td>0</td>\n",
       "    </tr>\n",
       "  </tbody>\n",
       "</table>\n",
       "</div>"
      ],
      "text/plain": [
       "       Temperature (C)  Apparent Temperature (C)  Humidity  Wind Speed (km/h)  \\\n",
       "33742         5.555556                  1.300000      0.69            24.4720   \n",
       "21803        26.005556                 26.005556      0.55            23.2645   \n",
       "16807         6.111111                  6.111111      0.87             0.1449   \n",
       "73812        23.794444                 23.794444      0.54             9.1931   \n",
       "17580        17.822222                 17.822222      0.59            15.4238   \n",
       "54630        -2.455556                 -5.922222      0.77             8.9838   \n",
       "2996         -0.022222                 -3.183333      0.92             9.4829   \n",
       "80258        19.577778                 19.577778      0.92             4.0733   \n",
       "18016        19.005556                 19.005556      0.33            17.2270   \n",
       "25138        18.738889                 18.738889      0.62             9.7244   \n",
       "\n",
       "       Wind Bearing (degrees)  Visibility (km)  Loud Cover  \\\n",
       "33742                   311.0          15.1501         0.0   \n",
       "21803                   299.0          11.4471         0.0   \n",
       "16807                   280.0           9.6117         0.0   \n",
       "73812                    29.0          16.1000         0.0   \n",
       "17580                   181.0          11.2056         0.0   \n",
       "54630                   120.0           9.6761         0.0   \n",
       "2996                    327.0           2.9785         0.0   \n",
       "80258                    18.0          12.0428         0.0   \n",
       "18016                    21.0           9.9820         0.0   \n",
       "25138                   200.0           9.9820         0.0   \n",
       "\n",
       "       Pressure (millibars)  Precip_rain  Precip_snow  cloud_value_hour  \\\n",
       "33742               1011.15         True        False                 2   \n",
       "21803               1009.40         True        False                 1   \n",
       "16807               1023.95         True        False                 2   \n",
       "73812               1006.12         True        False                 1   \n",
       "17580               1003.68         True        False                 2   \n",
       "54630               1027.91        False         True                 1   \n",
       "2996                1037.15        False         True                 4   \n",
       "80258               1015.73         True        False                 1   \n",
       "18016               1020.20         True        False                 1   \n",
       "25138               1012.12         True        False                 2   \n",
       "\n",
       "       wind_value_hour  humidity_value_hour  precip_value_hour  \n",
       "33742                0                    0                  0  \n",
       "21803                0                    0                  0  \n",
       "16807                0                    0                  0  \n",
       "73812                0                    0                  0  \n",
       "17580                0                    0                  0  \n",
       "54630                0                    0                  0  \n",
       "2996                 0                    0                  0  \n",
       "80258                0                    0                  0  \n",
       "18016                0                    0                  0  \n",
       "25138                0                    0                  0  "
      ]
     },
     "execution_count": 16,
     "metadata": {},
     "output_type": "execute_result"
    }
   ],
   "source": [
    "df_encoded.sample(10)"
   ]
  },
  {
   "cell_type": "markdown",
   "id": "0fff71e5",
   "metadata": {},
   "source": [
    "Separamos un 10% de los datos para validacion"
   ]
  },
  {
   "cell_type": "code",
   "execution_count": 43,
   "id": "10d0554a",
   "metadata": {},
   "outputs": [],
   "source": [
    "X_train, X_test = train_test_split(df_encoded, test_size=0.1, random_state=42)\n",
    "Y_train, Y_test = train_test_split(y, test_size=0.1, random_state=42)"
   ]
  },
  {
   "cell_type": "code",
   "execution_count": 44,
   "id": "66fae26e",
   "metadata": {},
   "outputs": [
    {
     "data": {
      "text/html": [
       "<div>\n",
       "<style scoped>\n",
       "    .dataframe tbody tr th:only-of-type {\n",
       "        vertical-align: middle;\n",
       "    }\n",
       "\n",
       "    .dataframe tbody tr th {\n",
       "        vertical-align: top;\n",
       "    }\n",
       "\n",
       "    .dataframe thead th {\n",
       "        text-align: right;\n",
       "    }\n",
       "</style>\n",
       "<table border=\"1\" class=\"dataframe\">\n",
       "  <thead>\n",
       "    <tr style=\"text-align: right;\">\n",
       "      <th></th>\n",
       "      <th>Temperature (C)</th>\n",
       "      <th>Apparent Temperature (C)</th>\n",
       "      <th>Humidity</th>\n",
       "      <th>Wind Speed (km/h)</th>\n",
       "      <th>Wind Bearing (degrees)</th>\n",
       "      <th>Visibility (km)</th>\n",
       "      <th>Loud Cover</th>\n",
       "      <th>Pressure (millibars)</th>\n",
       "      <th>Precip_rain</th>\n",
       "      <th>Precip_snow</th>\n",
       "      <th>cloud_value_hour</th>\n",
       "      <th>wind_value_hour</th>\n",
       "      <th>humidity_value_hour</th>\n",
       "      <th>precip_value_hour</th>\n",
       "    </tr>\n",
       "  </thead>\n",
       "  <tbody>\n",
       "    <tr>\n",
       "      <th>88408</th>\n",
       "      <td>23.911111</td>\n",
       "      <td>23.911111</td>\n",
       "      <td>0.69</td>\n",
       "      <td>9.6439</td>\n",
       "      <td>319.0</td>\n",
       "      <td>10.2557</td>\n",
       "      <td>0.0</td>\n",
       "      <td>1014.36</td>\n",
       "      <td>True</td>\n",
       "      <td>False</td>\n",
       "      <td>2</td>\n",
       "      <td>0</td>\n",
       "      <td>0</td>\n",
       "      <td>0</td>\n",
       "    </tr>\n",
       "  </tbody>\n",
       "</table>\n",
       "</div>"
      ],
      "text/plain": [
       "       Temperature (C)  Apparent Temperature (C)  Humidity  Wind Speed (km/h)  \\\n",
       "88408        23.911111                 23.911111      0.69             9.6439   \n",
       "\n",
       "       Wind Bearing (degrees)  Visibility (km)  Loud Cover  \\\n",
       "88408                   319.0          10.2557         0.0   \n",
       "\n",
       "       Pressure (millibars)  Precip_rain  Precip_snow  cloud_value_hour  \\\n",
       "88408               1014.36         True        False                 2   \n",
       "\n",
       "       wind_value_hour  humidity_value_hour  precip_value_hour  \n",
       "88408                0                    0                  0  "
      ]
     },
     "execution_count": 44,
     "metadata": {},
     "output_type": "execute_result"
    }
   ],
   "source": [
    "X_train.head(1)"
   ]
  },
  {
   "cell_type": "code",
   "execution_count": 45,
   "id": "7183a2d5",
   "metadata": {},
   "outputs": [
    {
     "data": {
      "text/html": [
       "<div>\n",
       "<style scoped>\n",
       "    .dataframe tbody tr th:only-of-type {\n",
       "        vertical-align: middle;\n",
       "    }\n",
       "\n",
       "    .dataframe tbody tr th {\n",
       "        vertical-align: top;\n",
       "    }\n",
       "\n",
       "    .dataframe thead th {\n",
       "        text-align: right;\n",
       "    }\n",
       "</style>\n",
       "<table border=\"1\" class=\"dataframe\">\n",
       "  <thead>\n",
       "    <tr style=\"text-align: right;\">\n",
       "      <th></th>\n",
       "      <th>Hour</th>\n",
       "      <th>Schedule1</th>\n",
       "      <th>Schedule2</th>\n",
       "    </tr>\n",
       "  </thead>\n",
       "  <tbody>\n",
       "    <tr>\n",
       "      <th>88408</th>\n",
       "      <td>19</td>\n",
       "      <td>3</td>\n",
       "      <td>2</td>\n",
       "    </tr>\n",
       "  </tbody>\n",
       "</table>\n",
       "</div>"
      ],
      "text/plain": [
       "       Hour  Schedule1  Schedule2\n",
       "88408    19          3          2"
      ]
     },
     "execution_count": 45,
     "metadata": {},
     "output_type": "execute_result"
    }
   ],
   "source": [
    "Y_train.head(1)"
   ]
  },
  {
   "cell_type": "code",
   "execution_count": 46,
   "id": "55e42489",
   "metadata": {},
   "outputs": [
    {
     "data": {
      "text/plain": [
       "'2016-08-01 19:00:00.000 +0200'"
      ]
     },
     "execution_count": 46,
     "metadata": {},
     "output_type": "execute_result"
    }
   ],
   "source": [
    "data[\"Formatted Date\"][88408]"
   ]
  },
  {
   "cell_type": "markdown",
   "id": "c0eced53",
   "metadata": {},
   "source": [
    "# K-Means"
   ]
  },
  {
   "cell_type": "markdown",
   "id": "6ff63aa9",
   "metadata": {},
   "source": [
    "Aplicamos K-Means para Aprendizaje Semi-Supervisado"
   ]
  },
  {
   "cell_type": "code",
   "execution_count": 47,
   "id": "d86f7226",
   "metadata": {},
   "outputs": [],
   "source": [
    "k = 80\n",
    "kmeans = KMeans(n_clusters=k, random_state=42)\n",
    "X_digits_dist = kmeans.fit_transform(X_train)"
   ]
  },
  {
   "cell_type": "code",
   "execution_count": 77,
   "id": "3ae4ec9f",
   "metadata": {},
   "outputs": [
    {
     "data": {
      "image/png": "[encoded data removed]",
      "text/plain": [
       "<Figure size 800x600 with 2 Axes>"
      ]
     },
     "metadata": {},
     "output_type": "display_data"
    }
   ],
   "source": [
    "from sklearn.preprocessing import StandardScaler\n",
    "from sklearn.decomposition import PCA\n",
    "from sklearn.cluster import KMeans\n",
    "import matplotlib.pyplot as plt\n",
    "\n",
    "# Variables seleccionadas\n",
    "features = ['Temperature (C)', 'Humidity', 'Wind Speed (km/h)', 'Visibility (km)', 'Pressure (millibars)']\n",
    "X = data[features].dropna()\n",
    "\n",
    "# Normalizar los datos\n",
    "scaler = StandardScaler()\n",
    "X_scaled = scaler.fit_transform(X)\n",
    "\n",
    "# KMeans clustering\n",
    "kmeans = KMeans(n_clusters=80, random_state=42)\n",
    "clusters = kmeans.fit_predict(X_scaled)\n",
    "\n",
    "# PCA para reducción a 2D\n",
    "pca = PCA(n_components=2)\n",
    "X_pca = pca.fit_transform(X_scaled)\n",
    "\n",
    "# Graficar\n",
    "plt.figure(figsize=(8,6))\n",
    "plt.scatter(X_pca[:, 0], X_pca[:, 1], c=clusters, cmap='Set1', alpha=0.6)\n",
    "plt.title(\"Clusters climáticos visualizados con PCA\")\n",
    "plt.xlabel(\"Componente Principal 1\")\n",
    "plt.ylabel(\"Componente Principal 2\")\n",
    "plt.colorbar(label=\"Cluster\")\n",
    "plt.grid(True)\n",
    "plt.show()"
   ]
  },
  {
   "cell_type": "code",
   "execution_count": 48,
   "id": "78a8e115",
   "metadata": {},
   "outputs": [],
   "source": [
    "idxs = np.argmin(X_digits_dist, axis=0)\n",
    "X_representative_digits = X_train.values[idxs]"
   ]
  },
  {
   "cell_type": "code",
   "execution_count": 49,
   "id": "1e42f3c0",
   "metadata": {},
   "outputs": [
    {
     "data": {
      "text/html": [
       "<div>\n",
       "<style scoped>\n",
       "    .dataframe tbody tr th:only-of-type {\n",
       "        vertical-align: middle;\n",
       "    }\n",
       "\n",
       "    .dataframe tbody tr th {\n",
       "        vertical-align: top;\n",
       "    }\n",
       "\n",
       "    .dataframe thead th {\n",
       "        text-align: right;\n",
       "    }\n",
       "</style>\n",
       "<table border=\"1\" class=\"dataframe\">\n",
       "  <thead>\n",
       "    <tr style=\"text-align: right;\">\n",
       "      <th></th>\n",
       "      <th>0</th>\n",
       "      <th>1</th>\n",
       "      <th>2</th>\n",
       "      <th>3</th>\n",
       "      <th>4</th>\n",
       "      <th>5</th>\n",
       "      <th>6</th>\n",
       "      <th>7</th>\n",
       "      <th>8</th>\n",
       "      <th>9</th>\n",
       "      <th>10</th>\n",
       "      <th>11</th>\n",
       "      <th>12</th>\n",
       "      <th>13</th>\n",
       "    </tr>\n",
       "  </thead>\n",
       "  <tbody>\n",
       "    <tr>\n",
       "      <th>0</th>\n",
       "      <td>17.166667</td>\n",
       "      <td>17.166667</td>\n",
       "      <td>0.87</td>\n",
       "      <td>7.7119</td>\n",
       "      <td>185.0</td>\n",
       "      <td>9.982</td>\n",
       "      <td>0.0</td>\n",
       "      <td>1014.66</td>\n",
       "      <td>True</td>\n",
       "      <td>False</td>\n",
       "      <td>1</td>\n",
       "      <td>0</td>\n",
       "      <td>0</td>\n",
       "      <td>0</td>\n",
       "    </tr>\n",
       "    <tr>\n",
       "      <th>1</th>\n",
       "      <td>12.777778</td>\n",
       "      <td>12.777778</td>\n",
       "      <td>0.72</td>\n",
       "      <td>16.0195</td>\n",
       "      <td>110.0</td>\n",
       "      <td>9.982</td>\n",
       "      <td>0.0</td>\n",
       "      <td>0.0</td>\n",
       "      <td>True</td>\n",
       "      <td>False</td>\n",
       "      <td>0</td>\n",
       "      <td>0</td>\n",
       "      <td>0</td>\n",
       "      <td>0</td>\n",
       "    </tr>\n",
       "    <tr>\n",
       "      <th>2</th>\n",
       "      <td>0.538889</td>\n",
       "      <td>-0.95</td>\n",
       "      <td>0.8</td>\n",
       "      <td>4.9749</td>\n",
       "      <td>71.0</td>\n",
       "      <td>6.2307</td>\n",
       "      <td>0.0</td>\n",
       "      <td>1029.14</td>\n",
       "      <td>True</td>\n",
       "      <td>False</td>\n",
       "      <td>3</td>\n",
       "      <td>0</td>\n",
       "      <td>0</td>\n",
       "      <td>0</td>\n",
       "    </tr>\n",
       "    <tr>\n",
       "      <th>3</th>\n",
       "      <td>10.0</td>\n",
       "      <td>9.811111</td>\n",
       "      <td>0.86</td>\n",
       "      <td>4.8622</td>\n",
       "      <td>335.0</td>\n",
       "      <td>11.27</td>\n",
       "      <td>0.0</td>\n",
       "      <td>1019.19</td>\n",
       "      <td>True</td>\n",
       "      <td>False</td>\n",
       "      <td>3</td>\n",
       "      <td>0</td>\n",
       "      <td>0</td>\n",
       "      <td>0</td>\n",
       "    </tr>\n",
       "    <tr>\n",
       "      <th>4</th>\n",
       "      <td>12.705556</td>\n",
       "      <td>12.705556</td>\n",
       "      <td>0.73</td>\n",
       "      <td>25.7761</td>\n",
       "      <td>159.0</td>\n",
       "      <td>10.3684</td>\n",
       "      <td>0.0</td>\n",
       "      <td>1005.75</td>\n",
       "      <td>True</td>\n",
       "      <td>False</td>\n",
       "      <td>2</td>\n",
       "      <td>0</td>\n",
       "      <td>0</td>\n",
       "      <td>0</td>\n",
       "    </tr>\n",
       "    <tr>\n",
       "      <th>...</th>\n",
       "      <td>...</td>\n",
       "      <td>...</td>\n",
       "      <td>...</td>\n",
       "      <td>...</td>\n",
       "      <td>...</td>\n",
       "      <td>...</td>\n",
       "      <td>...</td>\n",
       "      <td>...</td>\n",
       "      <td>...</td>\n",
       "      <td>...</td>\n",
       "      <td>...</td>\n",
       "      <td>...</td>\n",
       "      <td>...</td>\n",
       "      <td>...</td>\n",
       "    </tr>\n",
       "    <tr>\n",
       "      <th>75</th>\n",
       "      <td>7.222222</td>\n",
       "      <td>5.088889</td>\n",
       "      <td>0.93</td>\n",
       "      <td>11.27</td>\n",
       "      <td>10.0</td>\n",
       "      <td>4.025</td>\n",
       "      <td>0.0</td>\n",
       "      <td>0.0</td>\n",
       "      <td>True</td>\n",
       "      <td>False</td>\n",
       "      <td>3</td>\n",
       "      <td>0</td>\n",
       "      <td>0</td>\n",
       "      <td>0</td>\n",
       "    </tr>\n",
       "    <tr>\n",
       "      <th>76</th>\n",
       "      <td>14.888889</td>\n",
       "      <td>14.888889</td>\n",
       "      <td>0.62</td>\n",
       "      <td>8.9999</td>\n",
       "      <td>307.0</td>\n",
       "      <td>11.3988</td>\n",
       "      <td>0.0</td>\n",
       "      <td>1014.67</td>\n",
       "      <td>True</td>\n",
       "      <td>False</td>\n",
       "      <td>2</td>\n",
       "      <td>0</td>\n",
       "      <td>0</td>\n",
       "      <td>0</td>\n",
       "    </tr>\n",
       "    <tr>\n",
       "      <th>77</th>\n",
       "      <td>24.894444</td>\n",
       "      <td>24.894444</td>\n",
       "      <td>0.65</td>\n",
       "      <td>8.855</td>\n",
       "      <td>135.0</td>\n",
       "      <td>10.8192</td>\n",
       "      <td>0.0</td>\n",
       "      <td>1013.56</td>\n",
       "      <td>True</td>\n",
       "      <td>False</td>\n",
       "      <td>1</td>\n",
       "      <td>0</td>\n",
       "      <td>0</td>\n",
       "      <td>0</td>\n",
       "    </tr>\n",
       "    <tr>\n",
       "      <th>78</th>\n",
       "      <td>27.85</td>\n",
       "      <td>28.283333</td>\n",
       "      <td>0.5</td>\n",
       "      <td>10.9319</td>\n",
       "      <td>198.0</td>\n",
       "      <td>11.3988</td>\n",
       "      <td>0.0</td>\n",
       "      <td>1013.15</td>\n",
       "      <td>True</td>\n",
       "      <td>False</td>\n",
       "      <td>1</td>\n",
       "      <td>0</td>\n",
       "      <td>0</td>\n",
       "      <td>0</td>\n",
       "    </tr>\n",
       "    <tr>\n",
       "      <th>79</th>\n",
       "      <td>2.777778</td>\n",
       "      <td>-2.038889</td>\n",
       "      <td>0.82</td>\n",
       "      <td>22.54</td>\n",
       "      <td>30.0</td>\n",
       "      <td>9.982</td>\n",
       "      <td>0.0</td>\n",
       "      <td>1017.0</td>\n",
       "      <td>True</td>\n",
       "      <td>False</td>\n",
       "      <td>3</td>\n",
       "      <td>0</td>\n",
       "      <td>0</td>\n",
       "      <td>0</td>\n",
       "    </tr>\n",
       "  </tbody>\n",
       "</table>\n",
       "<p>80 rows × 14 columns</p>\n",
       "</div>"
      ],
      "text/plain": [
       "           0          1     2        3      4        5    6        7     8   \\\n",
       "0   17.166667  17.166667  0.87   7.7119  185.0    9.982  0.0  1014.66  True   \n",
       "1   12.777778  12.777778  0.72  16.0195  110.0    9.982  0.0      0.0  True   \n",
       "2    0.538889      -0.95   0.8   4.9749   71.0   6.2307  0.0  1029.14  True   \n",
       "3        10.0   9.811111  0.86   4.8622  335.0    11.27  0.0  1019.19  True   \n",
       "4   12.705556  12.705556  0.73  25.7761  159.0  10.3684  0.0  1005.75  True   \n",
       "..        ...        ...   ...      ...    ...      ...  ...      ...   ...   \n",
       "75   7.222222   5.088889  0.93    11.27   10.0    4.025  0.0      0.0  True   \n",
       "76  14.888889  14.888889  0.62   8.9999  307.0  11.3988  0.0  1014.67  True   \n",
       "77  24.894444  24.894444  0.65    8.855  135.0  10.8192  0.0  1013.56  True   \n",
       "78      27.85  28.283333   0.5  10.9319  198.0  11.3988  0.0  1013.15  True   \n",
       "79   2.777778  -2.038889  0.82    22.54   30.0    9.982  0.0   1017.0  True   \n",
       "\n",
       "       9  10 11 12 13  \n",
       "0   False  1  0  0  0  \n",
       "1   False  0  0  0  0  \n",
       "2   False  3  0  0  0  \n",
       "3   False  3  0  0  0  \n",
       "4   False  2  0  0  0  \n",
       "..    ... .. .. .. ..  \n",
       "75  False  3  0  0  0  \n",
       "76  False  2  0  0  0  \n",
       "77  False  1  0  0  0  \n",
       "78  False  1  0  0  0  \n",
       "79  False  3  0  0  0  \n",
       "\n",
       "[80 rows x 14 columns]"
      ]
     },
     "execution_count": 49,
     "metadata": {},
     "output_type": "execute_result"
    }
   ],
   "source": [
    "pd.DataFrame(X_representative_digits)"
   ]
  },
  {
   "cell_type": "code",
   "execution_count": 51,
   "id": "869a8a4b",
   "metadata": {},
   "outputs": [],
   "source": [
    "y1_representative_digits = Y_train[\"Hour\"].values[idxs]\n",
    "y2_representative_digits = Y_train[\"Schedule1\"].values[idxs]\n",
    "y3_representative_digits = Y_train[\"Schedule2\"].values[idxs]\n"
   ]
  },
  {
   "cell_type": "code",
   "execution_count": 58,
   "id": "07201489",
   "metadata": {},
   "outputs": [
    {
     "name": "stderr",
     "output_type": "stream",
     "text": [
      "c:\\Users\\ltron\\AppData\\Local\\Programs\\Python\\Python312\\Lib\\site-packages\\sklearn\\linear_model\\_logistic.py:1256: FutureWarning: 'multi_class' was deprecated in version 1.5 and will be removed in 1.7. Use OneVsRestClassifier(LogisticRegression(..)) instead. Leave it to its default value to avoid this warning.\n",
      "  warnings.warn(\n",
      "c:\\Users\\ltron\\AppData\\Local\\Programs\\Python\\Python312\\Lib\\site-packages\\sklearn\\utils\\validation.py:2732: UserWarning: X has feature names, but LogisticRegression was fitted without feature names\n",
      "  warnings.warn(\n"
     ]
    },
    {
     "data": {
      "text/plain": [
       "0.06209827907941116"
      ]
     },
     "execution_count": 58,
     "metadata": {},
     "output_type": "execute_result"
    }
   ],
   "source": [
    "sorter1 = LogisticRegression(multi_class=\"ovr\", solver=\"lbfgs\", max_iter=5000, random_state=42)\n",
    "sorter1.fit(X_representative_digits, y1_representative_digits)\n",
    "sorter1.score(X_test, Y_test[\"Hour\"])"
   ]
  },
  {
   "cell_type": "code",
   "execution_count": 59,
   "id": "1a6ea679",
   "metadata": {},
   "outputs": [
    {
     "name": "stderr",
     "output_type": "stream",
     "text": [
      "c:\\Users\\ltron\\AppData\\Local\\Programs\\Python\\Python312\\Lib\\site-packages\\sklearn\\linear_model\\_logistic.py:1256: FutureWarning: 'multi_class' was deprecated in version 1.5 and will be removed in 1.7. Use OneVsRestClassifier(LogisticRegression(..)) instead. Leave it to its default value to avoid this warning.\n",
      "  warnings.warn(\n",
      "c:\\Users\\ltron\\AppData\\Local\\Programs\\Python\\Python312\\Lib\\site-packages\\sklearn\\utils\\validation.py:2732: UserWarning: X has feature names, but LogisticRegression was fitted without feature names\n",
      "  warnings.warn(\n"
     ]
    },
    {
     "data": {
      "text/plain": [
       "0.3865851130002073"
      ]
     },
     "execution_count": 59,
     "metadata": {},
     "output_type": "execute_result"
    }
   ],
   "source": [
    "sorter2 = LogisticRegression(multi_class=\"ovr\", solver=\"lbfgs\", max_iter=5000, random_state=42)\n",
    "sorter2.fit(X_representative_digits, y2_representative_digits)\n",
    "sorter2.score(X_test, Y_test[\"Schedule1\"])"
   ]
  },
  {
   "cell_type": "code",
   "execution_count": 63,
   "id": "19c1b67f",
   "metadata": {},
   "outputs": [
    {
     "name": "stderr",
     "output_type": "stream",
     "text": [
      "c:\\Users\\ltron\\AppData\\Local\\Programs\\Python\\Python312\\Lib\\site-packages\\sklearn\\linear_model\\_logistic.py:1256: FutureWarning: 'multi_class' was deprecated in version 1.5 and will be removed in 1.7. Use OneVsRestClassifier(LogisticRegression(..)) instead. Leave it to its default value to avoid this warning.\n",
      "  warnings.warn(\n",
      "c:\\Users\\ltron\\AppData\\Local\\Programs\\Python\\Python312\\Lib\\site-packages\\sklearn\\utils\\validation.py:2732: UserWarning: X has feature names, but LogisticRegression was fitted without feature names\n",
      "  warnings.warn(\n"
     ]
    },
    {
     "data": {
      "text/plain": [
       "0.40576404727348125"
      ]
     },
     "execution_count": 63,
     "metadata": {},
     "output_type": "execute_result"
    }
   ],
   "source": [
    "sorter3 = LogisticRegression(multi_class=\"ovr\", solver=\"lbfgs\", max_iter=5000, random_state=42)\n",
    "sorter3.fit(X_representative_digits, y3_representative_digits)\n",
    "sorter3.score(X_test, Y_test[\"Schedule2\"])"
   ]
  },
  {
   "cell_type": "code",
   "execution_count": 64,
   "id": "3e181163",
   "metadata": {},
   "outputs": [],
   "source": [
    "y1_train_propagated = np.empty(len(X_train))\n",
    "for i in range(k):\n",
    "  y1_train_propagated[kmeans.labels_==i] = y1_representative_digits[i]"
   ]
  },
  {
   "cell_type": "code",
   "execution_count": 65,
   "id": "840dbf83",
   "metadata": {},
   "outputs": [],
   "source": [
    "y2_train_propagated = np.empty(len(X_train))\n",
    "for i in range(k):\n",
    "  y2_train_propagated[kmeans.labels_==i] = y2_representative_digits[i]"
   ]
  },
  {
   "cell_type": "code",
   "execution_count": 66,
   "id": "aa61c531",
   "metadata": {},
   "outputs": [],
   "source": [
    "y3_train_propagated = np.empty(len(X_train))\n",
    "for i in range(k):\n",
    "  y3_train_propagated[kmeans.labels_==i] = y3_representative_digits[i]"
   ]
  },
  {
   "cell_type": "code",
   "execution_count": 67,
   "id": "9d10acda",
   "metadata": {},
   "outputs": [
    {
     "name": "stderr",
     "output_type": "stream",
     "text": [
      "c:\\Users\\ltron\\AppData\\Local\\Programs\\Python\\Python312\\Lib\\site-packages\\sklearn\\linear_model\\_logistic.py:1256: FutureWarning: 'multi_class' was deprecated in version 1.5 and will be removed in 1.7. Use OneVsRestClassifier(LogisticRegression(..)) instead. Leave it to its default value to avoid this warning.\n",
      "  warnings.warn(\n"
     ]
    },
    {
     "data": {
      "text/plain": [
       "0.05307899647522289"
      ]
     },
     "execution_count": 67,
     "metadata": {},
     "output_type": "execute_result"
    }
   ],
   "source": [
    "log_reg3 = LogisticRegression(multi_class=\"ovr\", solver=\"lbfgs\", max_iter=5000, random_state=42)\n",
    "log_reg3.fit(X_train[:1000], y1_train_propagated[:1000])\n",
    "log_reg3.score(X_test, Y_test[\"Hour\"])"
   ]
  },
  {
   "cell_type": "code",
   "execution_count": 68,
   "id": "f8d97b6b",
   "metadata": {},
   "outputs": [
    {
     "name": "stderr",
     "output_type": "stream",
     "text": [
      "c:\\Users\\ltron\\AppData\\Local\\Programs\\Python\\Python312\\Lib\\site-packages\\sklearn\\linear_model\\_logistic.py:1256: FutureWarning: 'multi_class' was deprecated in version 1.5 and will be removed in 1.7. Use OneVsRestClassifier(LogisticRegression(..)) instead. Leave it to its default value to avoid this warning.\n",
      "  warnings.warn(\n"
     ]
    },
    {
     "data": {
      "text/plain": [
       "0.30064275347294217"
      ]
     },
     "execution_count": 68,
     "metadata": {},
     "output_type": "execute_result"
    }
   ],
   "source": [
    "log_reg3.fit(X_train[:1000], y2_train_propagated[:1000])\n",
    "log_reg3.score(X_test, Y_test[\"Schedule1\"])"
   ]
  },
  {
   "cell_type": "code",
   "execution_count": 69,
   "id": "d7c8662d",
   "metadata": {},
   "outputs": [
    {
     "name": "stderr",
     "output_type": "stream",
     "text": [
      "c:\\Users\\ltron\\AppData\\Local\\Programs\\Python\\Python312\\Lib\\site-packages\\sklearn\\linear_model\\_logistic.py:1256: FutureWarning: 'multi_class' was deprecated in version 1.5 and will be removed in 1.7. Use OneVsRestClassifier(LogisticRegression(..)) instead. Leave it to its default value to avoid this warning.\n",
      "  warnings.warn(\n"
     ]
    },
    {
     "data": {
      "text/plain": [
       "0.3835786854654779"
      ]
     },
     "execution_count": 69,
     "metadata": {},
     "output_type": "execute_result"
    }
   ],
   "source": [
    "log_reg3.fit(X_train[:1000], y3_train_propagated[:1000])\n",
    "log_reg3.score(X_test, Y_test[\"Schedule2\"])"
   ]
  },
  {
   "cell_type": "markdown",
   "id": "77bf0da3",
   "metadata": {},
   "source": [
    "# Aprendizaje Activo"
   ]
  },
  {
   "cell_type": "code",
   "execution_count": 71,
   "id": "5b018aae",
   "metadata": {},
   "outputs": [
    {
     "data": {
      "text/plain": [
       "array([0.33646283, 0.33733282, 0.33735838, 0.33812697, 0.33830067, 0.3400031 , 0.34163259, 0.34271932, 0.34431579, 0.34450587])"
      ]
     },
     "execution_count": 71,
     "metadata": {},
     "output_type": "execute_result"
    }
   ],
   "source": [
    "probas = log_reg3.predict_proba(X_train[:1000])\n",
    "labels_ixs = np.argmax(probas, axis=1)\n",
    "labels = np.array([proba[ix] for proba, ix in zip(probas, labels_ixs)])\n",
    "sorted_ixs = np.argsort(labels)\n",
    "labels[sorted_ixs[:10]]\n"
   ]
  },
  {
   "cell_type": "code",
   "execution_count": 72,
   "id": "0c08f891",
   "metadata": {},
   "outputs": [],
   "source": [
    "X_lowest = X_train.values[:1000][sorted_ixs[:k]]"
   ]
  },
  {
   "cell_type": "code",
   "execution_count": 73,
   "id": "0d4c7342",
   "metadata": {},
   "outputs": [
    {
     "data": {
      "text/plain": [
       "array([0, 1, 1, 0, 0, 0, 0, 0, 2, 0, 1, 1, 1, 2, 2, 1, 1, 1, 0, 0, 2, 0, 2, 0, 1, 1, 0, 2, 0, 2, 0, 0, 0, 0, 1, 2, 2, 2, 0, 0, 2, 2, 2, 0, 2, 1, 0, 1, 0, 0, 1, 0, 1, 2, 0, 2, 1, 2, 0, 0, 0, 2, 2, 0, 1, 0, 0, 2, 0, 1, 2, 0, 2, 2, 2, 1, 2, 2, 1, 1], dtype=int64)"
      ]
     },
     "execution_count": 73,
     "metadata": {},
     "output_type": "execute_result"
    }
   ],
   "source": [
    "y_lowest = Y_train[\"Schedule2\"].values[:1000][sorted_ixs[:k]]\n",
    "y_lowest"
   ]
  },
  {
   "cell_type": "code",
   "execution_count": 74,
   "id": "f6da2704",
   "metadata": {},
   "outputs": [],
   "source": [
    "y_train2 = y3_train_propagated[:1000].copy()\n",
    "y_train2[sorted_ixs[:k]] = y_lowest"
   ]
  },
  {
   "cell_type": "code",
   "execution_count": 75,
   "id": "dbda1c04",
   "metadata": {},
   "outputs": [
    {
     "name": "stderr",
     "output_type": "stream",
     "text": [
      "c:\\Users\\ltron\\AppData\\Local\\Programs\\Python\\Python312\\Lib\\site-packages\\sklearn\\linear_model\\_logistic.py:1256: FutureWarning: 'multi_class' was deprecated in version 1.5 and will be removed in 1.7. Use OneVsRestClassifier(LogisticRegression(..)) instead. Leave it to its default value to avoid this warning.\n",
      "  warnings.warn(\n"
     ]
    },
    {
     "name": "stdout",
     "output_type": "stream",
     "text": [
      "CPU times: total: 3.92 s\n",
      "Wall time: 4.05 s\n"
     ]
    },
    {
     "data": {
      "text/plain": [
       "0.38668878291519804"
      ]
     },
     "execution_count": 75,
     "metadata": {},
     "output_type": "execute_result"
    }
   ],
   "source": [
    "log_reg5 = LogisticRegression(multi_class=\"ovr\", solver=\"lbfgs\", max_iter=5000, random_state=42)\n",
    "%time log_reg5.fit(X_train[:1000], y_train2)\n",
    "log_reg5.score(X_test, Y_test[\"Schedule2\"])"
   ]
  },
  {
   "cell_type": "code",
   "execution_count": null,
   "id": "e4fe514a",
   "metadata": {},
   "outputs": [],
   "source": []
  }
 ],
 "metadata": {
  "kernelspec": {
   "display_name": "Python 3",
   "language": "python",
   "name": "python3"
  },
  "language_info": {
   "codemirror_mode": {
    "name": "ipython",
    "version": 3
   },
   "file_extension": ".py",
   "mimetype": "text/x-python",
   "name": "python",
   "nbconvert_exporter": "python",
   "pygments_lexer": "ipython3",
   "version": "3.12.3"
  }
 },
 "nbformat": 4,
 "nbformat_minor": 5
}
