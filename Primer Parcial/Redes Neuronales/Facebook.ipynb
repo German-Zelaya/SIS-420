{
 "cells": [
  {
   "cell_type": "markdown",
   "metadata": {
    "id": "pE_iwdR5m6xH"
   },
   "source": [
    "[![Open In Colab](https://colab.research.google.com/assets/colab-badge.svg)](https://colab.research.google.com/github/sensioai/blog/blob/master/028_pytorch_nn/pytorch_nn.ipynb)"
   ]
  },
  {
   "cell_type": "markdown",
   "metadata": {
    "id": "DjhgRWO_m6xK"
   },
   "source": [
    "# Pytorch - Redes Neuronales"
   ]
  },
  {
   "cell_type": "markdown",
   "metadata": {},
   "source": [
    "Se esta usando un dataset basado en 22470 grafos de Facebook que contiene 4 clases de tipos de páginas (tvshow,goverment,company y politician) que estan conectadas entre si y uso las siguientes librerias para la aplicacion del entrenamiento con redes neuronales."
   ]
  },
  {
   "cell_type": "code",
   "execution_count": 2,
   "metadata": {
    "ExecuteTime": {
     "end_time": "2020-08-15T12:21:45.471625Z",
     "start_time": "2020-08-15T12:21:45.002765Z"
    },
    "executionInfo": {
     "elapsed": 7397,
     "status": "ok",
     "timestamp": 1742919058887,
     "user": {
      "displayName": "Carlos Walter Pacheco Lora",
      "userId": "05889892519883337793"
     },
     "user_tz": 240
    },
    "id": "4hnzhQywm6xL"
   },
   "outputs": [],
   "source": [
    "import torch\n",
    "import numpy as np\n",
    "import torch.nn as nn\n",
    "import networkx as nx\n",
    "import pandas as pd\n",
    "from sklearn.model_selection import train_test_split\n",
    "from sklearn.preprocessing import LabelEncoder, StandardScaler\n",
    "from sklearn.metrics import accuracy_score"
   ]
  },
  {
   "cell_type": "markdown",
   "metadata": {
    "heading_collapsed": true,
    "id": "IqUKyQ9Nm6xM"
   },
   "source": [
    "## Preprocesamiento y Normalización"
   ]
  },
  {
   "cell_type": "markdown",
   "metadata": {},
   "source": [
    "Estamos leyendo el dataset donde tenemos las conexiones y el otro donde tenemos las etiquetas para posteriormente usar la libreria de networks que nos permite trabajar con grafos, consecuentemente extraemos las caracteristicas de los grafos y los normalizamos con la funcion de la libreria sklearn.preprocessing \"StandardScaler\" la cual esta designada para normalizar los grafos para dar una relacion entre las caracteristicas del modelo."
   ]
  },
  {
   "cell_type": "code",
   "execution_count": 3,
   "metadata": {
    "ExecuteTime": {
     "end_time": "2020-08-15T12:22:05.622262Z",
     "start_time": "2020-08-15T12:21:46.778019Z"
    },
    "colab": {
     "base_uri": "https://localhost:8080/"
    },
    "executionInfo": {
     "elapsed": 5739,
     "status": "ok",
     "timestamp": 1742919703421,
     "user": {
      "displayName": "Carlos Walter Pacheco Lora",
      "userId": "05889892519883337793"
     },
     "user_tz": 240
    },
    "hidden": true,
    "id": "OmlXe8Gpm6xR",
    "outputId": "5d91979d-7098-4baf-8e76-25d720b9fcd1"
   },
   "outputs": [
    {
     "name": "stdout",
     "output_type": "stream",
     "text": [
      "(22470, 2)\n",
      "\n",
      "Distribución de categorías:\n",
      "page_type\n",
      "government    6880\n",
      "company       6495\n",
      "politician    5768\n",
      "tvshow        3327\n",
      "Name: count, dtype: int64\n"
     ]
    }
   ],
   "source": [
    "# Cargar conexiones\n",
    "edges = pd.read_csv('musae_facebook_edges.csv')\n",
    "\n",
    "# Cargar etiquetas\n",
    "targets = pd.read_csv('musae_facebook_target.csv')\n",
    "\n",
    "# 2. Crear grafo\n",
    "G = nx.from_pandas_edgelist(edges, 'id_1', 'id_2')\n",
    "\n",
    "# 3. Extraer características para cada nodo\n",
    "features = []\n",
    "node_ids = []\n",
    "\n",
    "for node in G.nodes():\n",
    "    # Extraer características básicas del grafo\n",
    "    if int(node) in targets['id'].values:  # Verificar que el nodo tenga etiqueta\n",
    "        degree = G.degree(node)\n",
    "        try:\n",
    "            clustering = nx.clustering(G, node)\n",
    "        except:\n",
    "            clustering = 0\n",
    "        # Puedes agregar más características según necesites\n",
    "        \n",
    "        features.append([degree, clustering])\n",
    "        node_ids.append(int(node))\n",
    "\n",
    "# Convertir a DataFrame para facilitar el manejo\n",
    "features_df = pd.DataFrame(features, columns=['degree', 'clustering'])\n",
    "features_df['id'] = node_ids\n",
    "\n",
    "# 4. Unir características con etiquetas\n",
    "data = pd.merge(features_df, targets, on='id')\n",
    "\n",
    "# 5. Preparar datos para el modelo\n",
    "X = data[['degree', 'clustering']]  # Características\n",
    "y = data['page_type']  # Etiquetas de categoría\n",
    "\n",
    "# Codificar las etiquetas\n",
    "label_encoder = LabelEncoder()\n",
    "y_encoded = label_encoder.fit_transform(y)\n",
    "\n",
    "# Normalizar características\n",
    "scaler = StandardScaler()\n",
    "X_scaled = scaler.fit_transform(X)\n",
    "\n",
    "print(X.shape)\n",
    "\n",
    "# Conteo de páginas por categoría\n",
    "print(\"\\nDistribución de categorías:\")\n",
    "print(y.value_counts())"
   ]
  },
  {
   "cell_type": "markdown",
   "metadata": {},
   "source": [
    "## Division"
   ]
  },
  {
   "cell_type": "markdown",
   "metadata": {},
   "source": [
    "Dividi el modelo en datos de prueba y entrenamiento"
   ]
  },
  {
   "cell_type": "code",
   "execution_count": 4,
   "metadata": {
    "ExecuteTime": {
     "end_time": "2020-08-15T12:22:07.328014Z",
     "start_time": "2020-08-15T12:22:07.313014Z"
    },
    "executionInfo": {
     "elapsed": 16,
     "status": "ok",
     "timestamp": 1742919087654,
     "user": {
      "displayName": "Carlos Walter Pacheco Lora",
      "userId": "05889892519883337793"
     },
     "user_tz": 240
    },
    "hidden": true,
    "id": "8ZmyhLd5m6xU"
   },
   "outputs": [
    {
     "name": "stdout",
     "output_type": "stream",
     "text": [
      "\n",
      "Tamaño de los conjuntos de datos:\n",
      "Entrenamiento: (17976, 2), Prueba: (4494, 2)\n"
     ]
    }
   ],
   "source": [
    "X_train, X_test, y_train, y_test = train_test_split(X_scaled, y_encoded, test_size=0.2, random_state=42)\n",
    "print(\"\\nTamaño de los conjuntos de datos:\")\n",
    "print(f\"Entrenamiento: {X_train.shape}, Prueba: {X_test.shape}\")"
   ]
  },
  {
   "cell_type": "markdown",
   "metadata": {},
   "source": [
    "## Implementación y Entrenamiento"
   ]
  },
  {
   "cell_type": "markdown",
   "metadata": {},
   "source": [
    "Aqui implementamos el Modulo nn de Pytorch que nos permite trabajar con una clase heredada de torch.nn.module la cual nos permite construir la arquitectura del modelo y en base a esa arquitectura se empieza el entrenamiento designando los hiperparametros y hallando las precisiones de los datos de prueba y de entrenamiento."
   ]
  },
  {
   "cell_type": "code",
   "execution_count": 24,
   "metadata": {
    "ExecuteTime": {
     "end_time": "2020-08-15T12:22:09.941710Z",
     "start_time": "2020-08-15T12:22:08.659711Z"
    },
    "colab": {
     "base_uri": "https://localhost:8080/"
    },
    "executionInfo": {
     "elapsed": 829,
     "status": "ok",
     "timestamp": 1742919105689,
     "user": {
      "displayName": "Carlos Walter Pacheco Lora",
      "userId": "05889892519883337793"
     },
     "user_tz": 240
    },
    "hidden": true,
    "id": "idh4YMn6m6xX",
    "outputId": "d8101d3f-34ba-4433-c261-390d6b0592dc"
   },
   "outputs": [
    {
     "name": "stdout",
     "output_type": "stream",
     "text": [
      "Epoch 10/1000 Train Loss: 1.38044 Test Loss: 1.32811 Train Acc: 0.3662 Test Acc: 0.3830\n",
      "Epoch 20/1000 Train Loss: 1.30239 Test Loss: 1.27626 Train Acc: 0.4270 Test Acc: 0.4263\n",
      "Epoch 30/1000 Train Loss: 1.27215 Test Loss: 1.26734 Train Acc: 0.4276 Test Acc: 0.4275\n",
      "Epoch 40/1000 Train Loss: 1.26397 Test Loss: 1.25868 Train Acc: 0.4332 Test Acc: 0.4339\n",
      "Epoch 50/1000 Train Loss: 1.25859 Test Loss: 1.25520 Train Acc: 0.4332 Test Acc: 0.4364\n",
      "Epoch 60/1000 Train Loss: 1.25560 Test Loss: 1.25162 Train Acc: 0.4344 Test Acc: 0.4335\n",
      "Epoch 70/1000 Train Loss: 1.25268 Test Loss: 1.24878 Train Acc: 0.4354 Test Acc: 0.4364\n",
      "Epoch 80/1000 Train Loss: 1.25019 Test Loss: 1.24607 Train Acc: 0.4361 Test Acc: 0.4364\n",
      "Epoch 90/1000 Train Loss: 1.24795 Test Loss: 1.24357 Train Acc: 0.4351 Test Acc: 0.4364\n",
      "Epoch 100/1000 Train Loss: 1.24591 Test Loss: 1.24135 Train Acc: 0.4374 Test Acc: 0.4410\n",
      "Epoch 110/1000 Train Loss: 1.24400 Test Loss: 1.23932 Train Acc: 0.4372 Test Acc: 0.4415\n",
      "Epoch 120/1000 Train Loss: 1.24214 Test Loss: 1.23743 Train Acc: 0.4378 Test Acc: 0.4415\n",
      "Epoch 130/1000 Train Loss: 1.24028 Test Loss: 1.23532 Train Acc: 0.4400 Test Acc: 0.4428\n",
      "Epoch 140/1000 Train Loss: 1.23825 Test Loss: 1.23283 Train Acc: 0.4380 Test Acc: 0.4430\n",
      "Epoch 150/1000 Train Loss: 1.23614 Test Loss: 1.23092 Train Acc: 0.4390 Test Acc: 0.4435\n",
      "Epoch 160/1000 Train Loss: 1.23448 Test Loss: 1.22910 Train Acc: 0.4396 Test Acc: 0.4448\n",
      "Epoch 170/1000 Train Loss: 1.23312 Test Loss: 1.22774 Train Acc: 0.4424 Test Acc: 0.4464\n",
      "Epoch 180/1000 Train Loss: 1.23206 Test Loss: 1.22653 Train Acc: 0.4423 Test Acc: 0.4466\n",
      "Epoch 190/1000 Train Loss: 1.23120 Test Loss: 1.22541 Train Acc: 0.4425 Test Acc: 0.4468\n",
      "Epoch 200/1000 Train Loss: 1.23040 Test Loss: 1.22439 Train Acc: 0.4418 Test Acc: 0.4455\n",
      "Epoch 210/1000 Train Loss: 1.22961 Test Loss: 1.22345 Train Acc: 0.4423 Test Acc: 0.4473\n",
      "Epoch 220/1000 Train Loss: 1.22894 Test Loss: 1.22273 Train Acc: 0.4431 Test Acc: 0.4475\n",
      "Epoch 230/1000 Train Loss: 1.22839 Test Loss: 1.22214 Train Acc: 0.4446 Test Acc: 0.4504\n",
      "Epoch 240/1000 Train Loss: 1.22792 Test Loss: 1.22154 Train Acc: 0.4452 Test Acc: 0.4495\n",
      "Epoch 250/1000 Train Loss: 1.22750 Test Loss: 1.22105 Train Acc: 0.4450 Test Acc: 0.4495\n",
      "Epoch 260/1000 Train Loss: 1.22706 Test Loss: 1.22065 Train Acc: 0.4467 Test Acc: 0.4497\n",
      "Epoch 270/1000 Train Loss: 1.22662 Test Loss: 1.22032 Train Acc: 0.4473 Test Acc: 0.4495\n",
      "Epoch 280/1000 Train Loss: 1.22625 Test Loss: 1.21992 Train Acc: 0.4480 Test Acc: 0.4499\n",
      "Epoch 290/1000 Train Loss: 1.22590 Test Loss: 1.21957 Train Acc: 0.4475 Test Acc: 0.4502\n",
      "Epoch 300/1000 Train Loss: 1.22560 Test Loss: 1.21933 Train Acc: 0.4476 Test Acc: 0.4479\n",
      "Epoch 310/1000 Train Loss: 1.22532 Test Loss: 1.21905 Train Acc: 0.4473 Test Acc: 0.4479\n",
      "Epoch 320/1000 Train Loss: 1.22507 Test Loss: 1.21879 Train Acc: 0.4474 Test Acc: 0.4482\n",
      "Epoch 330/1000 Train Loss: 1.22484 Test Loss: 1.21857 Train Acc: 0.4478 Test Acc: 0.4484\n",
      "Epoch 340/1000 Train Loss: 1.22464 Test Loss: 1.21837 Train Acc: 0.4489 Test Acc: 0.4484\n",
      "Epoch 350/1000 Train Loss: 1.22448 Test Loss: 1.21823 Train Acc: 0.4492 Test Acc: 0.4479\n",
      "Epoch 360/1000 Train Loss: 1.22432 Test Loss: 1.21812 Train Acc: 0.4492 Test Acc: 0.4493\n",
      "Epoch 370/1000 Train Loss: 1.22417 Test Loss: 1.21801 Train Acc: 0.4496 Test Acc: 0.4513\n",
      "Epoch 380/1000 Train Loss: 1.22403 Test Loss: 1.21790 Train Acc: 0.4498 Test Acc: 0.4508\n",
      "Epoch 390/1000 Train Loss: 1.22388 Test Loss: 1.21786 Train Acc: 0.4498 Test Acc: 0.4515\n",
      "Epoch 400/1000 Train Loss: 1.22374 Test Loss: 1.21773 Train Acc: 0.4498 Test Acc: 0.4515\n",
      "Epoch 410/1000 Train Loss: 1.22361 Test Loss: 1.21762 Train Acc: 0.4502 Test Acc: 0.4519\n",
      "Epoch 420/1000 Train Loss: 1.22349 Test Loss: 1.21749 Train Acc: 0.4498 Test Acc: 0.4517\n",
      "Epoch 430/1000 Train Loss: 1.22338 Test Loss: 1.21738 Train Acc: 0.4498 Test Acc: 0.4519\n",
      "Epoch 440/1000 Train Loss: 1.22327 Test Loss: 1.21730 Train Acc: 0.4499 Test Acc: 0.4519\n",
      "Epoch 450/1000 Train Loss: 1.22317 Test Loss: 1.21718 Train Acc: 0.4495 Test Acc: 0.4524\n",
      "Epoch 460/1000 Train Loss: 1.22306 Test Loss: 1.21707 Train Acc: 0.4495 Test Acc: 0.4524\n",
      "Epoch 470/1000 Train Loss: 1.22296 Test Loss: 1.21700 Train Acc: 0.4493 Test Acc: 0.4533\n",
      "Epoch 480/1000 Train Loss: 1.22286 Test Loss: 1.21689 Train Acc: 0.4493 Test Acc: 0.4522\n",
      "Epoch 490/1000 Train Loss: 1.22276 Test Loss: 1.21684 Train Acc: 0.4493 Test Acc: 0.4528\n",
      "Epoch 500/1000 Train Loss: 1.22267 Test Loss: 1.21679 Train Acc: 0.4490 Test Acc: 0.4535\n",
      "Epoch 510/1000 Train Loss: 1.22258 Test Loss: 1.21665 Train Acc: 0.4482 Test Acc: 0.4544\n",
      "Epoch 520/1000 Train Loss: 1.22249 Test Loss: 1.21656 Train Acc: 0.4483 Test Acc: 0.4542\n",
      "Epoch 530/1000 Train Loss: 1.22241 Test Loss: 1.21647 Train Acc: 0.4482 Test Acc: 0.4537\n",
      "Epoch 540/1000 Train Loss: 1.22233 Test Loss: 1.21640 Train Acc: 0.4482 Test Acc: 0.4537\n",
      "Epoch 550/1000 Train Loss: 1.22224 Test Loss: 1.21629 Train Acc: 0.4487 Test Acc: 0.4530\n",
      "Epoch 560/1000 Train Loss: 1.22216 Test Loss: 1.21620 Train Acc: 0.4487 Test Acc: 0.4524\n",
      "Epoch 570/1000 Train Loss: 1.22207 Test Loss: 1.21616 Train Acc: 0.4483 Test Acc: 0.4524\n",
      "Epoch 580/1000 Train Loss: 1.22197 Test Loss: 1.21593 Train Acc: 0.4482 Test Acc: 0.4535\n",
      "Epoch 590/1000 Train Loss: 1.22186 Test Loss: 1.21581 Train Acc: 0.4490 Test Acc: 0.4524\n",
      "Epoch 600/1000 Train Loss: 1.22175 Test Loss: 1.21576 Train Acc: 0.4482 Test Acc: 0.4530\n",
      "Epoch 610/1000 Train Loss: 1.22163 Test Loss: 1.21553 Train Acc: 0.4489 Test Acc: 0.4524\n",
      "Epoch 620/1000 Train Loss: 1.22152 Test Loss: 1.21548 Train Acc: 0.4489 Test Acc: 0.4515\n",
      "Epoch 630/1000 Train Loss: 1.22140 Test Loss: 1.21537 Train Acc: 0.4486 Test Acc: 0.4524\n",
      "Epoch 640/1000 Train Loss: 1.22128 Test Loss: 1.21527 Train Acc: 0.4493 Test Acc: 0.4524\n",
      "Epoch 650/1000 Train Loss: 1.22116 Test Loss: 1.21504 Train Acc: 0.4484 Test Acc: 0.4537\n",
      "Epoch 660/1000 Train Loss: 1.22104 Test Loss: 1.21500 Train Acc: 0.4491 Test Acc: 0.4517\n",
      "Epoch 670/1000 Train Loss: 1.22092 Test Loss: 1.21480 Train Acc: 0.4490 Test Acc: 0.4533\n",
      "Epoch 680/1000 Train Loss: 1.22079 Test Loss: 1.21469 Train Acc: 0.4484 Test Acc: 0.4537\n",
      "Epoch 690/1000 Train Loss: 1.22067 Test Loss: 1.21469 Train Acc: 0.4482 Test Acc: 0.4522\n",
      "Epoch 700/1000 Train Loss: 1.22055 Test Loss: 1.21453 Train Acc: 0.4494 Test Acc: 0.4530\n",
      "Epoch 710/1000 Train Loss: 1.22042 Test Loss: 1.21433 Train Acc: 0.4484 Test Acc: 0.4537\n",
      "Epoch 720/1000 Train Loss: 1.22030 Test Loss: 1.21422 Train Acc: 0.4497 Test Acc: 0.4528\n",
      "Epoch 730/1000 Train Loss: 1.22018 Test Loss: 1.21410 Train Acc: 0.4498 Test Acc: 0.4528\n",
      "Epoch 740/1000 Train Loss: 1.22005 Test Loss: 1.21398 Train Acc: 0.4498 Test Acc: 0.4533\n",
      "Epoch 750/1000 Train Loss: 1.21993 Test Loss: 1.21395 Train Acc: 0.4502 Test Acc: 0.4526\n",
      "Epoch 760/1000 Train Loss: 1.21981 Test Loss: 1.21395 Train Acc: 0.4497 Test Acc: 0.4528\n",
      "Epoch 770/1000 Train Loss: 1.21970 Test Loss: 1.21388 Train Acc: 0.4498 Test Acc: 0.4528\n",
      "Epoch 780/1000 Train Loss: 1.21959 Test Loss: 1.21376 Train Acc: 0.4494 Test Acc: 0.4530\n",
      "Epoch 790/1000 Train Loss: 1.21949 Test Loss: 1.21378 Train Acc: 0.4497 Test Acc: 0.4522\n",
      "Epoch 800/1000 Train Loss: 1.21939 Test Loss: 1.21377 Train Acc: 0.4493 Test Acc: 0.4517\n",
      "Epoch 810/1000 Train Loss: 1.21930 Test Loss: 1.21365 Train Acc: 0.4490 Test Acc: 0.4515\n",
      "Epoch 820/1000 Train Loss: 1.21921 Test Loss: 1.21368 Train Acc: 0.4494 Test Acc: 0.4510\n",
      "Epoch 830/1000 Train Loss: 1.21912 Test Loss: 1.21377 Train Acc: 0.4494 Test Acc: 0.4524\n",
      "Epoch 840/1000 Train Loss: 1.21903 Test Loss: 1.21368 Train Acc: 0.4490 Test Acc: 0.4517\n",
      "Epoch 850/1000 Train Loss: 1.21893 Test Loss: 1.21357 Train Acc: 0.4490 Test Acc: 0.4524\n",
      "Epoch 860/1000 Train Loss: 1.21883 Test Loss: 1.21357 Train Acc: 0.4484 Test Acc: 0.4530\n",
      "Epoch 870/1000 Train Loss: 1.21873 Test Loss: 1.21349 Train Acc: 0.4484 Test Acc: 0.4530\n",
      "Epoch 880/1000 Train Loss: 1.21863 Test Loss: 1.21347 Train Acc: 0.4484 Test Acc: 0.4524\n",
      "Epoch 890/1000 Train Loss: 1.21854 Test Loss: 1.21338 Train Acc: 0.4485 Test Acc: 0.4528\n",
      "Epoch 900/1000 Train Loss: 1.21845 Test Loss: 1.21333 Train Acc: 0.4483 Test Acc: 0.4528\n",
      "Epoch 910/1000 Train Loss: 1.21837 Test Loss: 1.21323 Train Acc: 0.4486 Test Acc: 0.4517\n",
      "Epoch 920/1000 Train Loss: 1.21829 Test Loss: 1.21328 Train Acc: 0.4488 Test Acc: 0.4519\n",
      "Epoch 930/1000 Train Loss: 1.21822 Test Loss: 1.21338 Train Acc: 0.4488 Test Acc: 0.4517\n",
      "Epoch 940/1000 Train Loss: 1.21813 Test Loss: 1.21321 Train Acc: 0.4488 Test Acc: 0.4528\n",
      "Epoch 950/1000 Train Loss: 1.21804 Test Loss: 1.21333 Train Acc: 0.4490 Test Acc: 0.4524\n",
      "Epoch 960/1000 Train Loss: 1.21794 Test Loss: 1.21323 Train Acc: 0.4492 Test Acc: 0.4517\n",
      "Epoch 970/1000 Train Loss: 1.21784 Test Loss: 1.21321 Train Acc: 0.4492 Test Acc: 0.4519\n",
      "Epoch 980/1000 Train Loss: 1.21775 Test Loss: 1.21304 Train Acc: 0.4493 Test Acc: 0.4526\n",
      "Epoch 990/1000 Train Loss: 1.21767 Test Loss: 1.21318 Train Acc: 0.4493 Test Acc: 0.4530\n",
      "Epoch 1000/1000 Train Loss: 1.21759 Test Loss: 1.21308 Train Acc: 0.4493 Test Acc: 0.4530\n",
      "Precisión del modelo: 45.30%\n"
     ]
    }
   ],
   "source": [
    "X_train_tensor = torch.tensor(X_train, dtype=torch.float32)\n",
    "y_train_tensor = torch.tensor(y_train, dtype=torch.long)\n",
    "X_test_tensor = torch.tensor(X_test, dtype=torch.float32)\n",
    "\n",
    "# creamos una clase que hereda de `torch.nn.Module`\n",
    "\n",
    "class Facebook(nn.Module):\n",
    "    # constructor\n",
    "    def __init__(self, D_in, H1, D_out):\n",
    "        # llamamos al constructor de la clase madre\n",
    "        super(Facebook, self).__init__()\n",
    "\n",
    "        # definimos nuestra única capa oculta\n",
    "        self.fc1 = nn.Linear(D_in, H1)\n",
    "        self.relu1 = nn.ReLU()\n",
    "        \n",
    "        # Capa final\n",
    "        self.fc2 = nn.Linear(H1, D_out)\n",
    "\n",
    "    # lógica para calcular las salidas de la red\n",
    "    def forward(self, x):\n",
    "        x = self.fc1(x)\n",
    "        x = self.relu1(x)\n",
    "        \n",
    "        x = self.fc2(x)\n",
    "        return x\n",
    "\n",
    "# Inicializar el modelo\n",
    "D_in = X_train.shape[1]  # Número de características\n",
    "H1 = 8  # Número de neuronas en la capa oculta\n",
    "D_out = len(label_encoder.classes_)  # Número de categorías\n",
    "\n",
    "model = Facebook(D_in, H1, D_out)\n",
    "if torch.cuda.is_available():\n",
    "    model = model.cuda()\n",
    "    X_train_tensor = X_train_tensor.cuda()\n",
    "    y_train_tensor = y_train_tensor.cuda()\n",
    "    X_test_tensor = X_test_tensor.cuda()\n",
    "    \n",
    "    # Configurar función de pérdida y optimizador\n",
    "criterion = nn.CrossEntropyLoss()\n",
    "optimizer = torch.optim.Adam(model.parameters(), lr=0.01)\n",
    "# Inicializar listas para almacenar métricas\n",
    "test_losses = []\n",
    "train_accuracies = []\n",
    "test_accuracies = []\n",
    "epochs_list = []\n",
    "\n",
    "def evaluate(x):\n",
    "    model.eval()  # Poner el modelo en modo evaluación\n",
    "    with torch.no_grad():  # Desactivar cálculo de gradientes para evaluación\n",
    "        y_pred = model(x)\n",
    "        y_probas = torch.softmax(y_pred, dim=1)\n",
    "        return torch.argmax(y_probas, dim=1)\n",
    "\n",
    "# Entrenamiento\n",
    "epochs = 1000\n",
    "log_each = 10\n",
    "l = []\n",
    "model.train()\n",
    "\n",
    "for e in range(1, epochs+1):\n",
    "\n",
    "    # forward\n",
    "    y_pred = model(X_train_tensor)\n",
    "\n",
    "    # loss\n",
    "    loss = criterion(y_pred, y_train_tensor)\n",
    "    l.append(loss.item())\n",
    "\n",
    "    # Calcular precisión de entrenamiento\n",
    "    with torch.no_grad():\n",
    "        train_pred = torch.argmax(y_pred, dim=1)\n",
    "        train_acc = (train_pred == y_train_tensor).float().mean().item()\n",
    "        train_accuracies.append(train_acc)\n",
    "\n",
    "    # ponemos a cero los gradientes\n",
    "    optimizer.zero_grad()\n",
    "\n",
    "    # Backprop (calculamos todos los gradientes automáticamente)\n",
    "    loss.backward()\n",
    "\n",
    "    # update de los pesos\n",
    "    optimizer.step()\n",
    "\n",
    "    if not e % log_each:\n",
    "\n",
    "        # Guardar la época para gráficas\n",
    "        epochs_list.append(e)\n",
    "\n",
    "        model.eval()  # Cambiar a modo evaluación\n",
    "        with torch.no_grad():\n",
    "                test_outputs = model(X_test_tensor)\n",
    "                test_loss = criterion(test_outputs, torch.tensor(y_test, device='cuda' if torch.cuda.is_available() else 'cpu'))\n",
    "                test_losses.append(test_loss.item())\n",
    "                \n",
    "                test_pred = torch.argmax(test_outputs, dim=1)\n",
    "                test_acc = (test_pred.cpu() == torch.tensor(y_test)).float().mean().item()\n",
    "                test_accuracies.append(test_acc)\n",
    "                model.train()  # Volver a modo entrenamiento\n",
    "\n",
    "        print(f\"Epoch {e}/{epochs} Train Loss: {np.mean(l[-log_each:]):.5f} Test Loss: {test_loss.item():.5f} Train Acc: {train_acc:.4f} Test Acc: {test_acc:.4f}\")\n",
    "\n",
    "\n",
    "     \n",
    "y_pred = evaluate(X_test_tensor)\n",
    "accuracy = accuracy_score(y_test, y_pred.cpu().numpy())\n",
    "\n",
    "print(f\"Precisión del modelo: {accuracy * 100:.2f}%\")"
   ]
  },
  {
   "cell_type": "markdown",
   "metadata": {},
   "source": [
    "## Gráficas"
   ]
  },
  {
   "cell_type": "markdown",
   "metadata": {},
   "source": [
    "Usamos la libreria de matplotlib para poder graficar e interpretar los valores de la funcion de costo y la precision de los datos de prueba y entrenamiento"
   ]
  },
  {
   "cell_type": "code",
   "execution_count": 29,
   "metadata": {},
   "outputs": [
    {
     "data": {
      "image/png": "[encoded data removed]",
      "text/plain": [
       "<Figure size 1200x500 with 2 Axes>"
      ]
     },
     "metadata": {},
     "output_type": "display_data"
    }
   ],
   "source": [
    "import matplotlib.pyplot as plt\n",
    "\n",
    "# Visualización de resultados\n",
    "plt.figure(figsize=(12, 5))\n",
    "\n",
    "# Gráfica de pérdida\n",
    "plt.subplot(1, 2, 1)\n",
    "plt.plot(range(1, epochs+1), l)\n",
    "plt.title('Función de Costo (Loss)')\n",
    "plt.xlabel('Épocas')\n",
    "plt.ylabel('Loss')\n",
    "plt.grid(True)\n",
    "\n",
    "# Gráfica de precisión\n",
    "plt.subplot(1, 2, 2)\n",
    "plt.plot(epochs_list, test_accuracies, label='Test', marker='o')\n",
    "plt.plot(range(1, epochs+1), train_accuracies, label='Train')\n",
    "plt.title('Precisión del Modelo')\n",
    "plt.xlabel('Épocas')\n",
    "plt.ylabel('Accuracy')\n",
    "plt.legend()\n",
    "plt.grid(True)\n",
    "\n",
    "# Gráfica de pérdida\n",
    "plt.subplot(1, 2, 1)\n",
    "plt.plot(range(1, epochs+1), l, label='Train Loss')\n",
    "plt.plot(epochs_list, test_losses, label='Test Loss', marker='o')\n",
    "plt.title('Función de Costo (Loss)')\n",
    "plt.xlabel('Épocas')\n",
    "plt.ylabel('Loss')\n",
    "plt.legend()\n",
    "plt.grid(True)\n",
    "\n",
    "plt.tight_layout()\n",
    "plt.show()"
   ]
  },
  {
   "cell_type": "markdown",
   "metadata": {},
   "source": [
    "## Interpretacion del Modelo"
   ]
  },
  {
   "cell_type": "markdown",
   "metadata": {},
   "source": [
    "Se trabajo con una red neuronal MLP para poder predecir grafos de paginas web de Facebook en funcion a las 4 clases de páginas que se tiene en el dataset, usando el modulo nn de Pytorch que nos permite poder trabajar con mas facilidad con las funciones para el entrenamiento, la arquitectura del modelo y los hiperparametros para asi lograr graficar con cuanta precision y error estamos teniendo en los datos de prueba y de salida."
   ]
  }
 ],
 "metadata": {
  "accelerator": "GPU",
  "colab": {
   "gpuType": "T4",
   "provenance": [
    {
     "file_id": "https://github.com/juansensio/blog/blob/master/028_pytorch_nn/pytorch_nn.ipynb",
     "timestamp": 1649227319930
    }
   ]
  },
  "kernelspec": {
   "display_name": "Python 3",
   "name": "python3"
  },
  "language_info": {
   "codemirror_mode": {
    "name": "ipython",
    "version": 3
   },
   "file_extension": ".py",
   "mimetype": "text/x-python",
   "name": "python",
   "nbconvert_exporter": "python",
   "pygments_lexer": "ipython3",
   "version": "3.10.11"
  },
  "toc": {
   "base_numbering": 1,
   "nav_menu": {},
   "number_sections": true,
   "sideBar": true,
   "skip_h1_title": false,
   "title_cell": "Table of Contents",
   "title_sidebar": "Contents",
   "toc_cell": false,
   "toc_position": {
    "height": "calc(100% - 180px)",
    "left": "10px",
    "top": "150px",
    "width": "233.594px"
   },
   "toc_section_display": true,
   "toc_window_display": false
  }
 },
 "nbformat": 4,
 "nbformat_minor": 0
}
