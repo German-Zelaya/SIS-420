{
 "cells": [
  {
   "cell_type": "markdown",
   "metadata": {
    "id": "GdbDbgWjml3N"
   },
   "source": [
    "# Clasificación multiclase\n",
    "\n",
    "## Introduction\n",
    "\n",
    "En este ejercicio se implementa la regresion one-vs-all y una red neuronal para reconocimiento de digitos.\n",
    "\n",
    "Antes de empezar la ejecución de las partes de codigo correspondienters a los ejercicios, se requiere importar todas las librerias necesarias."
   ]
  },
  {
   "cell_type": "code",
   "execution_count": 3,
   "metadata": {
    "executionInfo": {
     "elapsed": 1307,
     "status": "ok",
     "timestamp": 1726151938513,
     "user": {
      "displayName": "Carlos Walter Pacheco Lora",
      "userId": "05889892519883337793"
     },
     "user_tz": 240
    },
    "id": "RplWSmngml3Q"
   },
   "outputs": [],
   "source": [
    "# utilizado para la manipulación de directorios y rutas\n",
    "import os\n",
    "\n",
    "# Cálculo científico y vectorial para python\n",
    "import numpy as np\n",
    "\n",
    "# Libreria para graficos\n",
    "from matplotlib import pyplot\n",
    "\n",
    "# Modulo de optimizacion en scipy\n",
    "from scipy import optimize\n",
    "\n",
    "# modulo para cargar archivos en formato MATLAB\n",
    "from scipy.io import loadmat\n",
    "\n",
    "# le dice a matplotlib que incruste gráficos en el cuaderno\n",
    "%matplotlib inline"
   ]
  },
  {
   "cell_type": "markdown",
   "metadata": {
    "id": "a3tbuzxxml3R"
   },
   "source": [
    "## 1 Clasificación multiclase\n",
    "\n",
    "Para este ejercicio, se usará regresión logística y redes neuronales para reconocer dígitos escritos a mano (de 0 a 9). El reconocimiento automático de dígitos escritos a mano se usa ampliamente en la actualidad, desde el reconocimiento de códigos postales (códigos postales) en sobres de correo hasta el reconocimiento de montos escritos en cheques bancarios. Este ejercicio  mostrará cómo los métodos que ha aprendido se pueden utilizar para esta tarea de clasificación.\n",
    "\n",
    "La primera parte del ejercicio, extenderá la implementación anterior de la regresión logística y la aplicará a la clasificación de uno contra todos (one vs all).\n",
    "\n",
    "### 1.1 Dataset\n",
    "\n",
    "Se proporciona un conjunto de datos en `ex3data1.mat` que contiene 5000 ejemplos de entrenamiento de dígitos escritos a mano (este es un subconjunto del conjunto de datos de dígitos escritos a mano [MNIST] http://yann.lecun.com/exdb/mnist)). El formato `.mat` significa que los datos se han guardado en un formato de matriz nativo Octave/MATLAB, en lugar de un formato de texto (ASCII) como un archivo csv. Usamos el formato `.mat` aquí para mostrar los diferentes formatos en los que se pueden presentar los datasets. Python proporciona mecanismos para cargar el formato nativo de MATLAB usando la función `loadmat` dentro del módulo` scipy.io`. Esta función devuelve un diccionario de Python con claves que contienen los nombres de las variables dentro del archivo `.mat`.\n",
    "\n",
    "Hay 5000 ejemplos de entrenamiento en `ex3data1.mat`, donde cada ejemplo de entrenamiento es una imagen en escala de grises de 20 píxeles por 20 píxeles del dígito. Cada píxel está representado por un número de punto flotante que indica la intensidad de la escala de grises en esa ubicación. La cuadrícula de 20 por 20 píxeles se \"desenrolla\" en un vector de 400 dimensiones. Cada uno de estos ejemplos de entrenamiento se convierte en una sola fila en nuestra matriz de datos \"X\". Esto da una matriz `X` de 5000 por 400 donde cada fila es un ejemplo de entrenamiento para una imagen de dígitos escrita a mano.\n",
    "\n",
    "$$ X = \\begin{bmatrix} - \\: (x^{(1)})^T \\: - \\\\ -\\: (x^{(2)})^T \\:- \\\\ \\vdots \\\\ - \\: (x^{(m)})^T \\:-  \\end{bmatrix} $$\n",
    "\n",
    "La segunda parte del conjunto de entrenamiento es un vector \"y\" de 5000 dimensiones que contiene etiquetas para el conjunto de entrenamiento.\n",
    "\n",
    "Se inicia el ejercicio cargando primero el conjunto de datos."
   ]
  },
  {
   "cell_type": "code",
   "execution_count": 4,
   "metadata": {
    "executionInfo": {
     "elapsed": 2337,
     "status": "ok",
     "timestamp": 1726151971070,
     "user": {
      "displayName": "Carlos Walter Pacheco Lora",
      "userId": "05889892519883337793"
     },
     "user_tz": 240
    },
    "id": "Emo-JXzeml3R"
   },
   "outputs": [],
   "source": [
    "# Ingresar imágenes de dígitos de 20x20\n",
    "input_layer_size  = 400\n",
    "\n",
    "# 10 etiquetas, de 1 a 10 (tomar en cuenta que se asigna \"0\" a la etiqueta 10)\n",
    "num_labels = 10\n",
    "\n",
    "#  datos de entrenamiento almacenados en los arreglos X, y\n",
    "# data = loadmat(os.path.join('Datasets', 'ex3data1.mat'))\n",
    "data = loadmat('numeros.mat')\n",
    "X, y = data['X'], data['y'].ravel()\n",
    "# establecer el dígito cero en 0, en lugar del 10 asignado a este conjunto de datos\n",
    "# Esto se hace debido a que el conjunto de datos se utilizó en MATLAB donde no hay índice 0\n",
    "y[y == 10] = 0\n",
    "\n",
    "m = y.size"
   ]
  },
  {
   "cell_type": "code",
   "execution_count": 5,
   "metadata": {
    "colab": {
     "base_uri": "https://localhost:8080/"
    },
    "executionInfo": {
     "elapsed": 3,
     "status": "ok",
     "timestamp": 1726151971071,
     "user": {
      "displayName": "Carlos Walter Pacheco Lora",
      "userId": "05889892519883337793"
     },
     "user_tz": 240
    },
    "id": "StebhPk1ml3S",
    "outputId": "dbd0c876-8f8e-4fe6-cc96-344601b1aa5a"
   },
   "outputs": [
    {
     "name": "stdout",
     "output_type": "stream",
     "text": [
      "[[0. 0. 0. ... 0. 0. 0.]\n",
      " [0. 0. 0. ... 0. 0. 0.]\n",
      " [0. 0. 0. ... 0. 0. 0.]\n",
      " ...\n",
      " [0. 0. 0. ... 0. 0. 0.]\n",
      " [0. 0. 0. ... 0. 0. 0.]\n",
      " [0. 0. 0. ... 0. 0. 0.]]\n",
      "[0 0 0 0 0 0 0 0 0 0 0 0 0 0 0 0 0 0 0 0 0 0 0 0 0 0 0 0 0 0 0 0 0 0 0 0 0\n",
      " 0 0 0 0 0 0 0 0 0 0 0 0 0 1 1 1 1 1 1 1 1 1 1 1 1 1 1 1 1 1 1 1 1 1 1 1 1\n",
      " 1 1 1 1 1 1 1 1 1 1 1 1 1 1 1 1 1 1 1 1 1 1 1 1 1 1 2 2 2 2 2 2 2 2 2 2 2\n",
      " 2 2 2 2 2 2 2 2 2 2 2 2 2 2 2 2 2 2 2 2 2 2 2 2 2 2 2 2 2 2 2 2 2 2 2 2 2\n",
      " 2 2 3 3 3 3 3 3 3 3 3 3 3 3 3 3 3 3 3 3 3 3 3 3 3 3 3 3 3 3 3 3 3 3 3 3 3\n",
      " 3 3 3 3 3 3 3 3 3 3 3 3 3 3 3 4 4 4 4 4 4 4 4 4 4 4 4 4 4 4 4 4 4 4 4 4 4\n",
      " 4 4 4 4 4 4 4 4 4 4 4 4 4 4 4 4 4 4 4 4 4 4 4 4 4 4 4 4 5 5 5 5 5 5 5 5 5\n",
      " 5 5 5 5 5 5 5 5 5 5 5 5 5 5 5 5 5 5 5 5 5 5 5 5 5 5 5 5 5 5 5 5 5 5 5 5 5\n",
      " 5 5 5 5 6 6 6 6 6 6 6 6 6 6 6 6 6 6 6 6 6 6 6 6 6 6 6 6 6 6 6 6 6 6 6 6 6\n",
      " 6 6 6 6 6 6 6 6 6 6 6 6 6 6 6 6 6 7 7 7 7 7 7 7 7 7 7 7 7 7 7 7 7 7 7 7 7\n",
      " 7 7 7 7 7 7 7 7 7 7 7 7 7 7 7 7 7 7 7 7 7 7 7 7 7 7 7 7 7 7 8 8 8 8 8 8 8\n",
      " 8 8 8 8 8 8 8 8 8 8 8 8 8 8 8 8 8 8 8 8 8 8 8 8 8 8 8 8 8 8 8 8 8 8 8 8 8\n",
      " 8 8 8 8 8 8 9 9 9 9 9 9 9 9 9 9 9 9 9 9 9 9 9 9 9 9 9 9 9 9 9 9 9 9 9 9 9\n",
      " 9 9 9 9 9 9 9 9 9 9 9 9 9 9 9 9 9 9 9]\n",
      "(500, 400)\n",
      "(500,)\n"
     ]
    }
   ],
   "source": [
    "print(X)\n",
    "print(y)\n",
    "print(X.shape)\n",
    "print(y.shape)"
   ]
  },
  {
   "cell_type": "markdown",
   "metadata": {
    "id": "ZPz8VJYSml3T"
   },
   "source": [
    "### 1.2 Visualización de los datos\n",
    "\n",
    "Se comenzará visualizando un subconjunto del conjunto de entrenamiento. Se selecciona al azar, 100 filas de `X` y pasa esas filas a la función` displayData`. Esta función asigna cada fila a una imagen en escala de grises de 20 píxeles por 20 píxeles y muestra las imágenes juntas."
   ]
  },
  {
   "cell_type": "code",
   "execution_count": 6,
   "metadata": {
    "executionInfo": {
     "elapsed": 2,
     "status": "ok",
     "timestamp": 1726151971071,
     "user": {
      "displayName": "Carlos Walter Pacheco Lora",
      "userId": "05889892519883337793"
     },
     "user_tz": 240
    },
    "id": "OVwI9GV3ml3T"
   },
   "outputs": [],
   "source": [
    "def displayData(X, example_width=None, figsize=(10, 10)):\n",
    "    \"\"\"\n",
    "    Muestra datos 2D almacenados en X en una cuadrícula apropiada.\n",
    "    \"\"\"\n",
    "    # Calcula filas, columnas\n",
    "    if X.ndim == 2:\n",
    "        m, n = X.shape\n",
    "    elif X.ndim == 1:\n",
    "        n = X.size\n",
    "        m = 1\n",
    "        X = X[None]  # Promocionar a una matriz bidimensional\n",
    "    else:\n",
    "        raise IndexError('La entrada X debe ser 1 o 2 dimensinal.')\n",
    "\n",
    "    example_width = example_width or int(np.round(np.sqrt(n)))\n",
    "    example_height = n / example_width\n",
    "\n",
    "    # Calcula el numero de elementos a mostrar\n",
    "    display_rows = int(np.floor(np.sqrt(m)))\n",
    "    display_cols = int(np.ceil(m / display_rows))\n",
    "\n",
    "    fig, ax_array = pyplot.subplots(display_rows, display_cols, figsize=figsize)\n",
    "    fig.subplots_adjust(wspace=0.025, hspace=0.025)\n",
    "\n",
    "    ax_array = [ax_array] if m == 1 else ax_array.ravel()\n",
    "\n",
    "    for i, ax in enumerate(ax_array):\n",
    "        ax.imshow(X[i].reshape(example_width, example_width),\n",
    "                  cmap='Greys', extent=[0, 1, 0, 1])\n",
    "        ax.axis('off')"
   ]
  },
  {
   "cell_type": "code",
   "execution_count": 21,
   "metadata": {
    "colab": {
     "base_uri": "https://localhost:8080/",
     "height": 807
    },
    "executionInfo": {
     "elapsed": 4061,
     "status": "ok",
     "timestamp": 1726151975130,
     "user": {
      "displayName": "Carlos Walter Pacheco Lora",
      "userId": "05889892519883337793"
     },
     "user_tz": 240
    },
    "id": "BQh588aBml3U",
    "outputId": "b792deba-7af6-4910-a5b1-95de406cc39c"
   },
   "outputs": [
    {
     "data": {
      "image/png": "[encoded data removed]",
      "text/plain": [
       "<Figure size 1000x1000 with 100 Axes>"
      ]
     },
     "metadata": {},
     "output_type": "display_data"
    }
   ],
   "source": [
    "# Selecciona aleatoriamente 100 puntos de datos para mostrar\n",
    "rand_indices = np.random.choice(m, 100, replace=False)\n",
    "sel = X[rand_indices, :]\n",
    "\n",
    "displayData(sel)"
   ]
  },
  {
   "cell_type": "markdown",
   "metadata": {
    "collapsed": true,
    "id": "9yYS1Of6ml3U"
   },
   "source": [
    "### 1.3 Vectorización de regresión logística\n",
    "\n",
    "Se utilizará múltiples modelos de regresión logística uno contra todos para construir un clasificador de clases múltiples. Dado que hay 10 clases, deberá entrenar 10 clasificadores de regresión logística separados. Para que esta capacitación sea eficiente, es importante asegurarse de que el código esté bien vectorizado.\n",
    "\n",
    "En esta sección, se implementará una versión vectorizada de regresión logística que no emplea ningún bucle \"for\".\n",
    "\n",
    "Para probar la regresión logística vectorizada, se usara datos personalizados como se definen a continuación."
   ]
  },
  {
   "cell_type": "code",
   "execution_count": 10,
   "metadata": {
    "colab": {
     "base_uri": "https://localhost:8080/"
    },
    "executionInfo": {
     "elapsed": 5,
     "status": "ok",
     "timestamp": 1726151975130,
     "user": {
      "displayName": "Carlos Walter Pacheco Lora",
      "userId": "05889892519883337793"
     },
     "user_tz": 240
    },
    "id": "XrM9KVVEml3U",
    "outputId": "116c635f-18d2-44e1-dd49-d576c3572d6b"
   },
   "outputs": [
    {
     "name": "stdout",
     "output_type": "stream",
     "text": [
      "[[1.  0.1 0.6 1.1]\n",
      " [1.  0.2 0.7 1.2]\n",
      " [1.  0.3 0.8 1.3]\n",
      " [1.  0.4 0.9 1.4]\n",
      " [1.  0.5 1.  1.5]]\n"
     ]
    }
   ],
   "source": [
    "# valores de prueba para los parámetros theta\n",
    "theta_t = np.array([-2, -1, 1, 2], dtype=float)\n",
    "\n",
    "# valores de prueba para las entradas\n",
    "X_t = np.concatenate([np.ones((5, 1)), np.arange(1, 16).reshape(5, 3, order='F')/10.0], axis=1)\n",
    "print(X_t)\n",
    "# valores de testeo para las etiquetas\n",
    "y_t = np.array([1, 0, 1, 0, 1])\n",
    "\n",
    "# valores de testeo para el parametro de regularizacion\n",
    "lambda_t = 3"
   ]
  },
  {
   "cell_type": "code",
   "execution_count": 11,
   "metadata": {
    "executionInfo": {
     "elapsed": 4,
     "status": "ok",
     "timestamp": 1726151975130,
     "user": {
      "displayName": "Carlos Walter Pacheco Lora",
      "userId": "05889892519883337793"
     },
     "user_tz": 240
    },
    "id": "Os75TJGlml3V"
   },
   "outputs": [],
   "source": [
    "def sigmoid(z):\n",
    "    \"\"\"\n",
    "    Calcula la sigmoide de z.\n",
    "    \"\"\"\n",
    "    return 1.0 / (1.0 + np.exp(-z))"
   ]
  },
  {
   "cell_type": "code",
   "execution_count": null,
   "metadata": {
    "executionInfo": {
     "elapsed": 4,
     "status": "ok",
     "timestamp": 1726151975130,
     "user": {
      "displayName": "Carlos Walter Pacheco Lora",
      "userId": "05889892519883337793"
     },
     "user_tz": 240
    },
    "id": "kwJLT_WTml3V"
   },
   "outputs": [],
   "source": [
    "def lrCostFunction(theta, X, y, lambda_):\n",
    "    \"\"\"\n",
    "    Calcula el costo de usar theta como parámetro para la regresión logística regularizada y\n",
    "    el gradiente del costo w.r.t. a los parámetros.\n",
    "\n",
    "    Parametros\n",
    "    ----------\n",
    "    theta : array_like\n",
    "        Parametro theta de la regresion logistica. Vector de la forma(shape) (n, ). n es el numero de caracteristicas\n",
    "        incluida la intercepcion\n",
    "\n",
    "    X : array_like\n",
    "        Dataset con la forma(shape) (m x n). m es el numero de ejemplos, y n es el numero de\n",
    "        caracteristicas (incluida la intercepcion).\n",
    "\n",
    "    y : array_like\n",
    "        El conjunto de etiquetas. Un vector con la forma (shape) (m, ). m es el numero de ejemplos\n",
    "\n",
    "    lambda_ : float\n",
    "        Parametro de regularización.\n",
    "\n",
    "    Devuelve\n",
    "    -------\n",
    "    J : float\n",
    "        El valor calculado para la funcion de costo regularizada.\n",
    "\n",
    "    grad : array_like\n",
    "        Un vector de la forma (shape) (n, ) que es el gradiente de la\n",
    "        función de costo con respecto a theta, en los valores actuales de theta..\n",
    "    \"\"\"\n",
    "    # Inicializa algunos valores utiles\n",
    "    m = y.size\n",
    "\n",
    "    # convierte las etiquetas a valores enteros si son boleanos\n",
    "    if y.dtype == bool:\n",
    "        y = y.astype(int)\n",
    "\n",
    "    J = 0\n",
    "    grad = np.zeros(theta.shape)\n",
    "\n",
    "    h = sigmoid(X.dot(theta.T))\n",
    "\n",
    "    temp = theta\n",
    "    temp[0] = 0\n",
    "\n",
    "    J = (1 / m) * np.sum(-y.dot(np.log(h)) - (1 - y).dot(np.log(1 - h))) + (lambda_ / (2 * m)) * np.sum(np.square(temp))\n",
    "\n",
    "    grad = (1 / m) * (h - y).dot(X)\n",
    "    grad = grad + (lambda_ / m) * temp\n",
    "\n",
    "    return J, grad"
   ]
  },
  {
   "cell_type": "code",
   "execution_count": 13,
   "metadata": {
    "colab": {
     "base_uri": "https://localhost:8080/"
    },
    "executionInfo": {
     "elapsed": 5,
     "status": "ok",
     "timestamp": 1726151975131,
     "user": {
      "displayName": "Carlos Walter Pacheco Lora",
      "userId": "05889892519883337793"
     },
     "user_tz": 240
    },
    "id": "CUqz0wpNml3W",
    "outputId": "60832b5d-68cc-4163-a285-1945636185ba"
   },
   "outputs": [
    {
     "name": "stdout",
     "output_type": "stream",
     "text": [
      "Costo         : 2.534819\n",
      "Costo esperadot: 2.534819\n",
      "-----------------------\n",
      "Gradientes:\n",
      " [0.146561, -0.548558, 0.724722, 1.398003]\n",
      "Gradientes esperados:\n",
      " [0.146561, -0.548558, 0.724722, 1.398003]\n"
     ]
    }
   ],
   "source": [
    "J, grad = lrCostFunction(theta_t, X_t, y_t, lambda_t)\n",
    "\n",
    "print('Costo         : {:.6f}'.format(J))\n",
    "print('Costo esperadot: 2.534819')\n",
    "print('-----------------------')\n",
    "print('Gradientes:')\n",
    "print(' [{:.6f}, {:.6f}, {:.6f}, {:.6f}]'.format(*grad))\n",
    "print('Gradientes esperados:')\n",
    "print(' [0.146561, -0.548558, 0.724722, 1.398003]');"
   ]
  },
  {
   "cell_type": "code",
   "execution_count": 15,
   "metadata": {
    "executionInfo": {
     "elapsed": 4,
     "status": "ok",
     "timestamp": 1726151975131,
     "user": {
      "displayName": "Carlos Walter Pacheco Lora",
      "userId": "05889892519883337793"
     },
     "user_tz": 240
    },
    "id": "1vQKDdkDml3W"
   },
   "outputs": [],
   "source": [
    "def oneVsAll(X, y, num_labels, lambda_):\n",
    "    \"\"\"\n",
    "    Trains num_labels logistic regression classifiers and returns\n",
    "    each of these classifiers in a matrix all_theta, where the i-th\n",
    "    row of all_theta corresponds to the classifier for label i.\n",
    "\n",
    "    Parameters\n",
    "    ----------\n",
    "    X : array_like\n",
    "        The input dataset of shape (m x n). m is the number of\n",
    "        data points, and n is the number of features. Note that we\n",
    "        do not assume that the intercept term (or bias) is in X, however\n",
    "        we provide the code below to add the bias term to X.\n",
    "\n",
    "    y : array_like\n",
    "        The data labels. A vector of shape (m, ).\n",
    "\n",
    "    num_labels : int\n",
    "        Number of possible labels.\n",
    "\n",
    "    lambda_ : float\n",
    "        The logistic regularization parameter.\n",
    "\n",
    "    Returns\n",
    "    -------\n",
    "    all_theta : array_like\n",
    "        The trained parameters for logistic regression for each class.\n",
    "        This is a matrix of shape (K x n+1) where K is number of classes\n",
    "        (ie. `numlabels`) and n is number of features without the bias.\n",
    "    \"\"\"\n",
    "    # algunas variables utiles\n",
    "    m, n = X.shape\n",
    "\n",
    "    all_theta = np.zeros((num_labels, n + 1))\n",
    "\n",
    "    # Agrega unos a la matriz X\n",
    "    X = np.concatenate([np.ones((m, 1)), X], axis=1)\n",
    "\n",
    "    for c in np.arange(num_labels):\n",
    "        initial_theta = np.zeros(n + 1)\n",
    "        options = {'maxiter': 50}\n",
    "        res = optimize.minimize(lrCostFunction,\n",
    "                                initial_theta,\n",
    "                                (X, (y == c), lambda_),\n",
    "                                jac=True,\n",
    "                                method='CG',\n",
    "                                options=options)\n",
    "\n",
    "        all_theta[c] = res.x\n",
    "\n",
    "    return all_theta"
   ]
  },
  {
   "cell_type": "code",
   "execution_count": 16,
   "metadata": {
    "executionInfo": {
     "elapsed": 7991,
     "status": "ok",
     "timestamp": 1726151983118,
     "user": {
      "displayName": "Carlos Walter Pacheco Lora",
      "userId": "05889892519883337793"
     },
     "user_tz": 240
    },
    "id": "pYTwhEJUml3W"
   },
   "outputs": [],
   "source": [
    "lambda_ = 0.1\n",
    "all_theta = oneVsAll(X, y, num_labels, lambda_)"
   ]
  },
  {
   "cell_type": "code",
   "execution_count": 17,
   "metadata": {
    "executionInfo": {
     "elapsed": 2,
     "status": "ok",
     "timestamp": 1726151983118,
     "user": {
      "displayName": "Carlos Walter Pacheco Lora",
      "userId": "05889892519883337793"
     },
     "user_tz": 240
    },
    "id": "-WKufLozml3X"
   },
   "outputs": [],
   "source": [
    "def predictOneVsAll(all_theta, X):\n",
    "    \"\"\"\n",
    "    Devuelve un vector de predicciones para cada ejemplo en la matriz X.\n",
    "    Tenga en cuenta que X contiene los ejemplos en filas.\n",
    "    all_theta es una matriz donde la i-ésima fila es un vector theta de regresión logística entrenada para la i-ésima clase.\n",
    "    Debe establecer p en un vector de valores de 0..K-1 (por ejemplo, p = [0, 2, 0, 1]\n",
    "    predice clases 0, 2, 0, 1 para 4 ejemplos).\n",
    "\n",
    "    Parametros\n",
    "    ----------\n",
    "    all_theta : array_like\n",
    "        The trained parameters for logistic regression for each class.\n",
    "        This is a matrix of shape (K x n+1) where K is number of classes\n",
    "        and n is number of features without the bias.\n",
    "\n",
    "    X : array_like\n",
    "        Data points to predict their labels. This is a matrix of shape\n",
    "        (m x n) where m is number of data points to predict, and n is number\n",
    "        of features without the bias term. Note we add the bias term for X in\n",
    "        this function.\n",
    "\n",
    "    Devuelve\n",
    "    -------\n",
    "    p : array_like\n",
    "        The predictions for each data point in X. This is a vector of shape (m, ).\n",
    "    \"\"\"\n",
    "\n",
    "    m = X.shape[0];\n",
    "    num_labels = all_theta.shape[0]\n",
    "\n",
    "    p = np.zeros(m)\n",
    "\n",
    "    # Add ones to the X data matrix\n",
    "    X = np.concatenate([np.ones((m, 1)), X], axis=1)\n",
    "    p = np.argmax(sigmoid(X.dot(all_theta.T)), axis = 1)\n",
    "\n",
    "    return p"
   ]
  },
  {
   "cell_type": "code",
   "execution_count": 22,
   "metadata": {
    "colab": {
     "base_uri": "https://localhost:8080/",
     "height": 831
    },
    "executionInfo": {
     "elapsed": 569,
     "status": "ok",
     "timestamp": 1726151983685,
     "user": {
      "displayName": "Carlos Walter Pacheco Lora",
      "userId": "05889892519883337793"
     },
     "user_tz": 240
    },
    "id": "92sZ0Wyiml3X",
    "outputId": "4d8d19dd-66aa-441f-c0d9-aa1ca020d76f"
   },
   "outputs": [
    {
     "name": "stdout",
     "output_type": "stream",
     "text": [
      "(500, 400)\n",
      "Precision del conjuto de entrenamiento: 100.00%\n",
      "(12, 400)\n",
      "(12, 401)\n",
      "[4 4 4 4 4 4 4 4 4 4 4 4]\n"
     ]
    },
    {
     "data": {
      "image/png": "[encoded data removed]",
      "text/plain": [
       "<Figure size 1000x1000 with 12 Axes>"
      ]
     },
     "metadata": {},
     "output_type": "display_data"
    }
   ],
   "source": [
    "print(X.shape)\n",
    "pred = predictOneVsAll(all_theta, X)\n",
    "print('Precision del conjuto de entrenamiento: {:.2f}%'.format(np.mean(pred == y) * 100))\n",
    "XPrueba = X[200:212, :].copy()\n",
    "print(XPrueba.shape)\n",
    "#print(np.ones((1)))\n",
    "#print(XPrueba)\n",
    "#p = np.zeros(1)\n",
    "XPrueba = np.concatenate([np.ones((XPrueba.shape[0], 1)), XPrueba], axis=1)\n",
    "print(XPrueba.shape)\n",
    "p = np.argmax(sigmoid(XPrueba.dot(all_theta.T)), axis = 1)\n",
    "print(p)\n",
    "\n",
    "displayData(X[200:212, :])"
   ]
  }
 ],
 "metadata": {
  "colab": {
   "provenance": []
  },
  "kernelspec": {
   "display_name": "Python 3",
   "language": "python",
   "name": "python3"
  },
  "language_info": {
   "codemirror_mode": {
    "name": "ipython",
    "version": 3
   },
   "file_extension": ".py",
   "mimetype": "text/x-python",
   "name": "python",
   "nbconvert_exporter": "python",
   "pygments_lexer": "ipython3",
   "version": "3.12.0"
  }
 },
 "nbformat": 4,
 "nbformat_minor": 0
}
